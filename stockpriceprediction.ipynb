{
 "cells": [
  {
   "cell_type": "code",
   "execution_count": 1,
   "metadata": {},
   "outputs": [],
   "source": [
    "import pandas_datareader as pdr\n",
    "df=pdr.get_data_tiingo('AMZN',api_key='ae0f631f91fa6003822cdbb33a1d5ce8af02e41c')"
   ]
  },
  {
   "cell_type": "code",
   "execution_count": 2,
   "metadata": {},
   "outputs": [],
   "source": [
    "df.to_csv('AMZN.csv')"
   ]
  },
  {
   "cell_type": "code",
   "execution_count": 3,
   "metadata": {},
   "outputs": [],
   "source": [
    "import pandas as pd"
   ]
  },
  {
   "cell_type": "code",
   "execution_count": 4,
   "metadata": {},
   "outputs": [],
   "source": [
    "df= pd.read_csv('AMZN.csv')"
   ]
  },
  {
   "cell_type": "code",
   "execution_count": 5,
   "metadata": {},
   "outputs": [],
   "source": [
    "df2=df.reset_index()[\"close\"]"
   ]
  },
  {
   "cell_type": "code",
   "execution_count": 6,
   "metadata": {},
   "outputs": [
    {
     "data": {
      "text/plain": [
       "<Figure size 640x480 with 1 Axes>"
      ]
     },
     "metadata": {},
     "output_type": "display_data"
    }
   ],
   "source": [
    "import matplotlib.pyplot as plt\n",
    "plt.plot(df2)\n",
    "plt.show()"
   ]
  },
  {
   "cell_type": "code",
   "execution_count": 7,
   "metadata": {},
   "outputs": [
    {
     "data": {
      "text/plain": [
       "0        728.10\n",
       "1        737.61\n",
       "2        736.57\n",
       "3        745.81\n",
       "4        753.78\n",
       "         ...   \n",
       "1254    3443.89\n",
       "1255    3448.14\n",
       "1256    3440.16\n",
       "1257    3432.97\n",
       "1258    3510.98\n",
       "Name: close, Length: 1259, dtype: float64"
      ]
     },
     "execution_count": 7,
     "metadata": {},
     "output_type": "execute_result"
    }
   ],
   "source": [
    "df2"
   ]
  },
  {
   "cell_type": "code",
   "execution_count": 8,
   "metadata": {},
   "outputs": [],
   "source": [
    "import numpy as np\n",
    "from sklearn.preprocessing import MinMaxScaler\n",
    "scaler=MinMaxScaler(feature_range=(0,1))\n",
    "df2=scaler.fit_transform(np.array(df2).reshape(-1,1))"
   ]
  },
  {
   "cell_type": "code",
   "execution_count": 9,
   "metadata": {},
   "outputs": [
    {
     "data": {
      "text/plain": [
       "(1259, 1)"
      ]
     },
     "execution_count": 9,
     "metadata": {},
     "output_type": "execute_result"
    }
   ],
   "source": [
    "df2.shape"
   ]
  },
  {
   "cell_type": "code",
   "execution_count": 10,
   "metadata": {},
   "outputs": [
    {
     "data": {
      "text/plain": [
       "array([[0.0032108 ],\n",
       "       [0.00659228],\n",
       "       [0.00622249],\n",
       "       ...,\n",
       "       [0.96753995],\n",
       "       [0.96498339],\n",
       "       [0.99272147]])"
      ]
     },
     "execution_count": 10,
     "metadata": {},
     "output_type": "execute_result"
    }
   ],
   "source": [
    "df2"
   ]
  },
  {
   "cell_type": "code",
   "execution_count": 11,
   "metadata": {},
   "outputs": [],
   "source": [
    "#Splitting the data into train and test has to done serially as this is time\n",
    "# series data and \n",
    "# which means if we have 100 data set then if want 70 percent data in\n",
    "# training and 30 percent in testing then 1- 70 will for training and 71-100 \n",
    "# form testing\n",
    "training_size=int(len(df2)*.7)\n",
    "test_size=len(df2) - training_size\n",
    "train_data,test_data=df2[0:training_size,:],df2[training_size:len(df2),:1]"
   ]
  },
  {
   "cell_type": "code",
   "execution_count": 12,
   "metadata": {},
   "outputs": [
    {
     "data": {
      "text/plain": [
       "(881, 378)"
      ]
     },
     "execution_count": 12,
     "metadata": {},
     "output_type": "execute_result"
    }
   ],
   "source": [
    "training_size,test_size"
   ]
  },
  {
   "cell_type": "code",
   "execution_count": 13,
   "metadata": {},
   "outputs": [
    {
     "data": {
      "text/plain": [
       "'2.5.0'"
      ]
     },
     "execution_count": 13,
     "metadata": {},
     "output_type": "execute_result"
    }
   ],
   "source": [
    "import tensorflow as tf\n",
    "tf.__version__"
   ]
  },
  {
   "cell_type": "markdown",
   "metadata": {},
   "source": [
    "Data PREPROCESSING\n",
    "IN THIS DEPEDENT VARAIBLES ARE CREATED OUT OF TIMES SERIES DATA\n",
    "Eg.  WE HAVE A SERIES OF DATA 145,123,234,345,3546,234,536,432,435,456\n",
    "NOW WE CHOOSE TIME STEP OF 5, THEN FIRST FIVE DATA POINTS ARE DEPDENDENT \n",
    "VARIABLE AND 6TH DATA IS INDEPENDENT VARAIBLE. FOR NEXT DATA WE SHIFT 1 STEP\n",
    "AND 2 TO 6 IS DEPENDENT VAIRABLE AND  7 IS INDEPDENT VARIABLE.\n",
    "THIS IS MAINLY BECAUSE THE PRICE OF 6TH DAY IS DEPENDENT ON LAST 5 DAY\n",
    "F1   F1   F3  F4   F5    O/P\n",
    "145  123 234  345  3546  234\n",
    "\n",
    "SIMILARY WE CAN CHOOSE ANY TIME STEP TO CREATE DEPENDENT AND INDEPENDENT \n",
    "VARIABLE\n"
   ]
  },
  {
   "cell_type": "code",
   "execution_count": 14,
   "metadata": {},
   "outputs": [],
   "source": [
    "import numpy \n",
    "def create_data(dataset,timestep):\n",
    "    datax, datay=[],[]\n",
    "    for i in range(len(dataset)-timestep-1):\n",
    "        a=dataset[i:(i+timestep),0]\n",
    "        \n",
    "        datax.append(a)\n",
    "        datay.append(dataset[i+timestep,0])\n",
    "    return numpy.array(datax),numpy.array(datay)"
   ]
  },
  {
   "cell_type": "code",
   "execution_count": 15,
   "metadata": {},
   "outputs": [],
   "source": [
    "time_step=100\n",
    "x_train,y_train=create_data(train_data,time_step)\n",
    "x_test,y_test =create_data(test_data,time_step)"
   ]
  },
  {
   "cell_type": "code",
   "execution_count": 16,
   "metadata": {},
   "outputs": [
    {
     "name": "stdout",
     "output_type": "stream",
     "text": [
      "[[0.0032108  0.00659228 0.00622249 ... 0.0146104  0.02166492 0.02356012]\n",
      " [0.00659228 0.00622249 0.00950796 ... 0.02166492 0.02356012 0.02170759]\n",
      " [0.00622249 0.00950796 0.01234186 ... 0.02356012 0.02170759 0.02179649]\n",
      " ...\n",
      " [0.38001977 0.3820003  0.39604179 ... 0.38185807 0.38051046 0.40879966]\n",
      " [0.3820003  0.39604179 0.38704229 ... 0.38051046 0.40879966 0.4091659 ]\n",
      " [0.39604179 0.38704229 0.37898506 ... 0.40879966 0.4091659  0.40101978]]\n"
     ]
    }
   ],
   "source": [
    "print(x_train)"
   ]
  },
  {
   "cell_type": "code",
   "execution_count": 17,
   "metadata": {},
   "outputs": [
    {
     "data": {
      "text/plain": [
       "'1.19.5'"
      ]
     },
     "execution_count": 17,
     "metadata": {},
     "output_type": "execute_result"
    }
   ],
   "source": [
    "numpy.__version__"
   ]
  },
  {
   "cell_type": "code",
   "execution_count": 18,
   "metadata": {},
   "outputs": [
    {
     "name": "stdout",
     "output_type": "stream",
     "text": [
      "(277, 100)\n",
      "(277,)\n"
     ]
    },
    {
     "data": {
      "text/plain": [
       "(None, None)"
      ]
     },
     "execution_count": 18,
     "metadata": {},
     "output_type": "execute_result"
    }
   ],
   "source": [
    "print(x_test.shape),print(y_test.shape)"
   ]
  },
  {
   "cell_type": "code",
   "execution_count": 19,
   "metadata": {},
   "outputs": [],
   "source": [
    "#CONVERTING the 2 data into 3d data by adding 1 in 3rd dimension to suit tensor\n",
    "#flow model\n",
    "x_train=x_train.reshape(x_train.shape[0],x_train.shape[1],1)\n",
    "x_test=x_test.reshape(x_test.shape[0],x_test.shape[1],1)"
   ]
  },
  {
   "cell_type": "code",
   "execution_count": 20,
   "metadata": {},
   "outputs": [
    {
     "data": {
      "text/plain": [
       "(780, 100, 1)"
      ]
     },
     "execution_count": 20,
     "metadata": {},
     "output_type": "execute_result"
    }
   ],
   "source": [
    "x_train.shape"
   ]
  },
  {
   "cell_type": "code",
   "execution_count": 21,
   "metadata": {},
   "outputs": [],
   "source": [
    "from tensorflow.keras.models import Sequential\n",
    "from tensorflow.keras.layers import Dense\n",
    "from tensorflow.keras.layers import LSTM"
   ]
  },
  {
   "cell_type": "code",
   "execution_count": 22,
   "metadata": {},
   "outputs": [],
   "source": [
    "model=Sequential()\n",
    "model.add(LSTM(50,return_sequences=True,input_shape=(100,1)))\n",
    "model.add(LSTM(50,return_sequences=True))\n",
    "model.add(LSTM(50))\n",
    "model.add(Dense(1))\n",
    "model.compile(loss='mean_squared_error',optimizer='adam')"
   ]
  },
  {
   "cell_type": "code",
   "execution_count": 23,
   "metadata": {},
   "outputs": [
    {
     "name": "stdout",
     "output_type": "stream",
     "text": [
      "Model: \"sequential\"\n",
      "_________________________________________________________________\n",
      "Layer (type)                 Output Shape              Param #   \n",
      "=================================================================\n",
      "lstm (LSTM)                  (None, 100, 50)           10400     \n",
      "_________________________________________________________________\n",
      "lstm_1 (LSTM)                (None, 100, 50)           20200     \n",
      "_________________________________________________________________\n",
      "lstm_2 (LSTM)                (None, 50)                20200     \n",
      "_________________________________________________________________\n",
      "dense (Dense)                (None, 1)                 51        \n",
      "=================================================================\n",
      "Total params: 50,851\n",
      "Trainable params: 50,851\n",
      "Non-trainable params: 0\n",
      "_________________________________________________________________\n"
     ]
    }
   ],
   "source": [
    "model.summary()"
   ]
  },
  {
   "cell_type": "code",
   "execution_count": 24,
   "metadata": {},
   "outputs": [
    {
     "name": "stdout",
     "output_type": "stream",
     "text": [
      "Epoch 1/100\n",
      "13/13 [==============================] - 6s 180ms/step - loss: 0.0234 - val_loss: 0.1507\n",
      "Epoch 2/100\n",
      "13/13 [==============================] - 1s 108ms/step - loss: 0.0053 - val_loss: 0.0251\n",
      "Epoch 3/100\n",
      "13/13 [==============================] - 1s 111ms/step - loss: 0.0016 - val_loss: 0.0026\n",
      "Epoch 4/100\n",
      "13/13 [==============================] - 1s 107ms/step - loss: 7.5675e-04 - val_loss: 0.0024\n",
      "Epoch 5/100\n",
      "13/13 [==============================] - 1s 108ms/step - loss: 7.4057e-04 - val_loss: 0.0048\n",
      "Epoch 6/100\n",
      "13/13 [==============================] - 1s 108ms/step - loss: 6.3233e-04 - val_loss: 0.0067\n",
      "Epoch 7/100\n",
      "13/13 [==============================] - 1s 107ms/step - loss: 6.1392e-04 - val_loss: 0.0060\n",
      "Epoch 8/100\n",
      "13/13 [==============================] - 1s 107ms/step - loss: 6.0450e-04 - val_loss: 0.0096\n",
      "Epoch 9/100\n",
      "13/13 [==============================] - 1s 109ms/step - loss: 5.9862e-04 - val_loss: 0.0145\n",
      "Epoch 10/100\n",
      "13/13 [==============================] - 1s 109ms/step - loss: 5.7188e-04 - val_loss: 0.0165\n",
      "Epoch 11/100\n",
      "13/13 [==============================] - 1s 109ms/step - loss: 6.1424e-04 - val_loss: 0.0126\n",
      "Epoch 12/100\n",
      "13/13 [==============================] - 2s 116ms/step - loss: 5.6624e-04 - val_loss: 0.0114\n",
      "Epoch 13/100\n",
      "13/13 [==============================] - 1s 108ms/step - loss: 5.8297e-04 - val_loss: 0.0090\n",
      "Epoch 14/100\n",
      "13/13 [==============================] - 1s 108ms/step - loss: 5.4505e-04 - val_loss: 0.0162\n",
      "Epoch 15/100\n",
      "13/13 [==============================] - 1s 109ms/step - loss: 5.4022e-04 - val_loss: 0.0171\n",
      "Epoch 16/100\n",
      "13/13 [==============================] - 1s 109ms/step - loss: 5.0885e-04 - val_loss: 0.0132\n",
      "Epoch 17/100\n",
      "13/13 [==============================] - 1s 109ms/step - loss: 4.9903e-04 - val_loss: 0.0184\n",
      "Epoch 18/100\n",
      "13/13 [==============================] - 1s 108ms/step - loss: 5.1149e-04 - val_loss: 0.0138\n",
      "Epoch 19/100\n",
      "13/13 [==============================] - 1s 108ms/step - loss: 4.8872e-04 - val_loss: 0.0155\n",
      "Epoch 20/100\n",
      "13/13 [==============================] - 1s 108ms/step - loss: 4.7737e-04 - val_loss: 0.0201\n",
      "Epoch 21/100\n",
      "13/13 [==============================] - 1s 109ms/step - loss: 4.8531e-04 - val_loss: 0.0147\n",
      "Epoch 22/100\n",
      "13/13 [==============================] - 1s 109ms/step - loss: 4.7309e-04 - val_loss: 0.0161\n",
      "Epoch 23/100\n",
      "13/13 [==============================] - 1s 112ms/step - loss: 4.6297e-04 - val_loss: 0.0200\n",
      "Epoch 24/100\n",
      "13/13 [==============================] - 1s 111ms/step - loss: 4.7455e-04 - val_loss: 0.0183\n",
      "Epoch 25/100\n",
      "13/13 [==============================] - 1s 108ms/step - loss: 4.3377e-04 - val_loss: 0.0198\n",
      "Epoch 26/100\n",
      "13/13 [==============================] - 1s 109ms/step - loss: 4.2707e-04 - val_loss: 0.0207\n",
      "Epoch 27/100\n",
      "13/13 [==============================] - 1s 108ms/step - loss: 4.4767e-04 - val_loss: 0.0188\n",
      "Epoch 28/100\n",
      "13/13 [==============================] - 1s 108ms/step - loss: 4.3720e-04 - val_loss: 0.0163\n",
      "Epoch 29/100\n",
      "13/13 [==============================] - 1s 108ms/step - loss: 4.3423e-04 - val_loss: 0.0223\n",
      "Epoch 30/100\n",
      "13/13 [==============================] - 1s 108ms/step - loss: 4.7672e-04 - val_loss: 0.0262\n",
      "Epoch 31/100\n",
      "13/13 [==============================] - 1s 110ms/step - loss: 4.9433e-04 - val_loss: 0.0206\n",
      "Epoch 32/100\n",
      "13/13 [==============================] - 1s 108ms/step - loss: 4.1819e-04 - val_loss: 0.0214\n",
      "Epoch 33/100\n",
      "13/13 [==============================] - 1s 108ms/step - loss: 4.1179e-04 - val_loss: 0.0236\n",
      "Epoch 34/100\n",
      "13/13 [==============================] - 1s 108ms/step - loss: 4.1039e-04 - val_loss: 0.0258\n",
      "Epoch 35/100\n",
      "13/13 [==============================] - 1s 112ms/step - loss: 4.1966e-04 - val_loss: 0.0204\n",
      "Epoch 36/100\n",
      "13/13 [==============================] - 1s 108ms/step - loss: 3.8617e-04 - val_loss: 0.0258\n",
      "Epoch 37/100\n",
      "13/13 [==============================] - 1s 109ms/step - loss: 4.1071e-04 - val_loss: 0.0229\n",
      "Epoch 38/100\n",
      "13/13 [==============================] - 1s 108ms/step - loss: 4.2441e-04 - val_loss: 0.0230\n",
      "Epoch 39/100\n",
      "13/13 [==============================] - 1s 111ms/step - loss: 3.8462e-04 - val_loss: 0.0176\n",
      "Epoch 40/100\n",
      "13/13 [==============================] - 2s 118ms/step - loss: 4.0522e-04 - val_loss: 0.0171\n",
      "Epoch 41/100\n",
      "13/13 [==============================] - 1s 108ms/step - loss: 4.3174e-04 - val_loss: 0.0283\n",
      "Epoch 42/100\n",
      "13/13 [==============================] - 1s 109ms/step - loss: 3.9762e-04 - val_loss: 0.0215\n",
      "Epoch 43/100\n",
      "13/13 [==============================] - 1s 108ms/step - loss: 3.8317e-04 - val_loss: 0.0197\n",
      "Epoch 44/100\n",
      "13/13 [==============================] - 1s 108ms/step - loss: 3.8161e-04 - val_loss: 0.0276\n",
      "Epoch 45/100\n",
      "13/13 [==============================] - 1s 110ms/step - loss: 4.8599e-04 - val_loss: 0.0105\n",
      "Epoch 46/100\n",
      "13/13 [==============================] - 1s 115ms/step - loss: 4.6614e-04 - val_loss: 0.0225\n",
      "Epoch 47/100\n",
      "13/13 [==============================] - 1s 108ms/step - loss: 3.9548e-04 - val_loss: 0.0209\n",
      "Epoch 48/100\n",
      "13/13 [==============================] - 1s 108ms/step - loss: 3.5895e-04 - val_loss: 0.0175\n",
      "Epoch 49/100\n",
      "13/13 [==============================] - 1s 108ms/step - loss: 3.7402e-04 - val_loss: 0.0192\n",
      "Epoch 50/100\n",
      "13/13 [==============================] - 1s 108ms/step - loss: 3.6621e-04 - val_loss: 0.0163\n",
      "Epoch 51/100\n",
      "13/13 [==============================] - 1s 108ms/step - loss: 3.9273e-04 - val_loss: 0.0243\n",
      "Epoch 52/100\n",
      "13/13 [==============================] - 1s 108ms/step - loss: 4.5454e-04 - val_loss: 0.0142\n",
      "Epoch 53/100\n",
      "13/13 [==============================] - 1s 109ms/step - loss: 3.7749e-04 - val_loss: 0.0197\n",
      "Epoch 54/100\n",
      "13/13 [==============================] - 1s 109ms/step - loss: 3.5680e-04 - val_loss: 0.0190\n",
      "Epoch 55/100\n",
      "13/13 [==============================] - 1s 109ms/step - loss: 3.8138e-04 - val_loss: 0.0152\n",
      "Epoch 56/100\n",
      "13/13 [==============================] - 1s 108ms/step - loss: 4.1340e-04 - val_loss: 0.0264\n",
      "Epoch 57/100\n",
      "13/13 [==============================] - 1s 113ms/step - loss: 3.6903e-04 - val_loss: 0.0130\n",
      "Epoch 58/100\n",
      "13/13 [==============================] - 1s 109ms/step - loss: 3.6721e-04 - val_loss: 0.0187\n",
      "Epoch 59/100\n",
      "13/13 [==============================] - 1s 108ms/step - loss: 3.4714e-04 - val_loss: 0.0141\n",
      "Epoch 60/100\n",
      "13/13 [==============================] - 1s 108ms/step - loss: 3.4337e-04 - val_loss: 0.0255\n",
      "Epoch 61/100\n",
      "13/13 [==============================] - 1s 109ms/step - loss: 4.1409e-04 - val_loss: 0.0119\n",
      "Epoch 62/100\n",
      "13/13 [==============================] - 1s 109ms/step - loss: 3.3628e-04 - val_loss: 0.0157\n",
      "Epoch 63/100\n",
      "13/13 [==============================] - 1s 109ms/step - loss: 3.3347e-04 - val_loss: 0.0264\n",
      "Epoch 64/100\n",
      "13/13 [==============================] - 1s 108ms/step - loss: 4.1296e-04 - val_loss: 0.0144\n",
      "Epoch 65/100\n",
      "13/13 [==============================] - 1s 108ms/step - loss: 3.3055e-04 - val_loss: 0.0214\n",
      "Epoch 66/100\n",
      "13/13 [==============================] - 1s 113ms/step - loss: 3.4387e-04 - val_loss: 0.0105\n",
      "Epoch 67/100\n",
      "13/13 [==============================] - 1s 108ms/step - loss: 3.7384e-04 - val_loss: 0.0178\n",
      "Epoch 68/100\n",
      "13/13 [==============================] - 1s 109ms/step - loss: 3.3820e-04 - val_loss: 0.0137\n",
      "Epoch 69/100\n",
      "13/13 [==============================] - 1s 111ms/step - loss: 3.1960e-04 - val_loss: 0.0094\n",
      "Epoch 70/100\n",
      "13/13 [==============================] - 2s 116ms/step - loss: 3.6179e-04 - val_loss: 0.0241\n",
      "Epoch 71/100\n",
      "13/13 [==============================] - 2s 118ms/step - loss: 4.0241e-04 - val_loss: 0.0106\n",
      "Epoch 72/100\n",
      "13/13 [==============================] - 2s 117ms/step - loss: 3.2832e-04 - val_loss: 0.0167\n",
      "Epoch 73/100\n",
      "13/13 [==============================] - 2s 120ms/step - loss: 3.1716e-04 - val_loss: 0.0181\n",
      "Epoch 74/100\n",
      "13/13 [==============================] - 2s 117ms/step - loss: 3.1860e-04 - val_loss: 0.0125\n",
      "Epoch 75/100\n",
      "13/13 [==============================] - 1s 114ms/step - loss: 3.1612e-04 - val_loss: 0.0159\n",
      "Epoch 76/100\n",
      "13/13 [==============================] - 1s 109ms/step - loss: 3.1851e-04 - val_loss: 0.0142\n",
      "Epoch 77/100\n",
      "13/13 [==============================] - 1s 109ms/step - loss: 3.2802e-04 - val_loss: 0.0150\n",
      "Epoch 78/100\n"
     ]
    },
    {
     "name": "stdout",
     "output_type": "stream",
     "text": [
      "13/13 [==============================] - 1s 108ms/step - loss: 3.2566e-04 - val_loss: 0.0183\n",
      "Epoch 79/100\n",
      "13/13 [==============================] - 1s 114ms/step - loss: 3.5951e-04 - val_loss: 0.0099\n",
      "Epoch 80/100\n",
      "13/13 [==============================] - 1s 110ms/step - loss: 3.1329e-04 - val_loss: 0.0127\n",
      "Epoch 81/100\n",
      "13/13 [==============================] - 2s 118ms/step - loss: 2.9444e-04 - val_loss: 0.0137\n",
      "Epoch 82/100\n",
      "13/13 [==============================] - 2s 118ms/step - loss: 2.8671e-04 - val_loss: 0.0178\n",
      "Epoch 83/100\n",
      "13/13 [==============================] - 1s 105ms/step - loss: 3.0566e-04 - val_loss: 0.0113\n",
      "Epoch 84/100\n",
      "13/13 [==============================] - 1s 108ms/step - loss: 2.9674e-04 - val_loss: 0.0146\n",
      "Epoch 85/100\n",
      "13/13 [==============================] - 1s 111ms/step - loss: 2.9845e-04 - val_loss: 0.0085\n",
      "Epoch 86/100\n",
      "13/13 [==============================] - 1s 108ms/step - loss: 2.9590e-04 - val_loss: 0.0162\n",
      "Epoch 87/100\n",
      "13/13 [==============================] - 2s 118ms/step - loss: 3.0351e-04 - val_loss: 0.0155\n",
      "Epoch 88/100\n",
      "13/13 [==============================] - 1s 111ms/step - loss: 3.3142e-04 - val_loss: 0.0090\n",
      "Epoch 89/100\n",
      "13/13 [==============================] - 2s 117ms/step - loss: 2.8217e-04 - val_loss: 0.0082\n",
      "Epoch 90/100\n",
      "13/13 [==============================] - 2s 128ms/step - loss: 2.7581e-04 - val_loss: 0.0194\n",
      "Epoch 91/100\n",
      "13/13 [==============================] - 2s 126ms/step - loss: 3.1226e-04 - val_loss: 0.0081\n",
      "Epoch 92/100\n",
      "13/13 [==============================] - 2s 122ms/step - loss: 2.7043e-04 - val_loss: 0.0118\n",
      "Epoch 93/100\n",
      "13/13 [==============================] - 1s 115ms/step - loss: 2.7789e-04 - val_loss: 0.0086\n",
      "Epoch 94/100\n",
      "13/13 [==============================] - 1s 108ms/step - loss: 2.7149e-04 - val_loss: 0.0099\n",
      "Epoch 95/100\n",
      "13/13 [==============================] - 1s 107ms/step - loss: 2.5767e-04 - val_loss: 0.0113\n",
      "Epoch 96/100\n",
      "13/13 [==============================] - 1s 108ms/step - loss: 2.5396e-04 - val_loss: 0.0087\n",
      "Epoch 97/100\n",
      "13/13 [==============================] - 1s 107ms/step - loss: 2.5306e-04 - val_loss: 0.0090\n",
      "Epoch 98/100\n",
      "13/13 [==============================] - 1s 107ms/step - loss: 2.5684e-04 - val_loss: 0.0132\n",
      "Epoch 99/100\n",
      "13/13 [==============================] - 1s 107ms/step - loss: 2.7255e-04 - val_loss: 0.0088\n",
      "Epoch 100/100\n",
      "13/13 [==============================] - 1s 110ms/step - loss: 2.4622e-04 - val_loss: 0.0116\n"
     ]
    },
    {
     "data": {
      "text/plain": [
       "<tensorflow.python.keras.callbacks.History at 0x3a27cfd0>"
      ]
     },
     "execution_count": 24,
     "metadata": {},
     "output_type": "execute_result"
    }
   ],
   "source": [
    "model.fit(x_train,y_train,validation_data=(x_test,y_test),epochs=100,batch_size=64,verbose=1)\n"
   ]
  },
  {
   "cell_type": "code",
   "execution_count": 25,
   "metadata": {},
   "outputs": [],
   "source": [
    "#LSTM is now trained and we will predict the train and test data\n",
    "train_predict=model.predict(x_train)\n",
    "test_predict=model.predict(x_test)"
   ]
  },
  {
   "cell_type": "code",
   "execution_count": 26,
   "metadata": {},
   "outputs": [],
   "source": [
    "# transform  back to original form\n",
    "train_predict=scaler.inverse_transform(train_predict)\n",
    "test_predict=scaler.inverse_transform(test_predict)\n"
   ]
  },
  {
   "cell_type": "code",
   "execution_count": 27,
   "metadata": {},
   "outputs": [
    {
     "data": {
      "text/plain": [
       "1479.3715409483082"
      ]
     },
     "execution_count": 27,
     "metadata": {},
     "output_type": "execute_result"
    }
   ],
   "source": [
    "import math\n",
    "from sklearn.metrics import mean_squared_error\n",
    "math.sqrt(mean_squared_error(y_train,train_predict))"
   ]
  },
  {
   "cell_type": "code",
   "execution_count": 28,
   "metadata": {},
   "outputs": [
    {
     "data": {
      "text/plain": [
       "2872.2241181356926"
      ]
     },
     "execution_count": 28,
     "metadata": {},
     "output_type": "execute_result"
    }
   ],
   "source": [
    "math.sqrt(mean_squared_error(y_test,test_predict))"
   ]
  },
  {
   "cell_type": "code",
   "execution_count": 29,
   "metadata": {},
   "outputs": [
    {
     "data": {
      "image/png": "[encoded data removed]",
      "text/plain": [
       "<Figure size 432x288 with 1 Axes>"
      ]
     },
     "metadata": {
      "needs_background": "light"
     },
     "output_type": "display_data"
    }
   ],
   "source": [
    "look_back=100\n",
    "trainPredictPlot=np.empty_like(df2)\n",
    "trainPredictPlot[:,:]=np.nan\n",
    "trainPredictPlot[look_back:len(train_predict)+look_back,:] = train_predict\n",
    "\n",
    "#shift test  predictions for plotting\n",
    "testPredictPlot=np.empty_like(df2)\n",
    "testPredictPlot[:,:]=np.nan\n",
    "testPredictPlot[len(train_predict)+(look_back*2)+1:len(df2)-1,:] = test_predict\n",
    "\n",
    "#plot baseline and predictions\n",
    "plt.plot(scaler.inverse_transform(df2))\n",
    "plt.plot(trainPredictPlot)\n",
    "plt.plot(testPredictPlot)\n",
    "plt.show()\n"
   ]
  },
  {
   "cell_type": "code",
   "execution_count": 30,
   "metadata": {},
   "outputs": [
    {
     "data": {
      "text/plain": [
       "(378, 1)"
      ]
     },
     "execution_count": 30,
     "metadata": {},
     "output_type": "execute_result"
    }
   ],
   "source": [
    "test_data.shape\n",
    "\n"
   ]
  },
  {
   "cell_type": "code",
   "execution_count": 31,
   "metadata": {},
   "outputs": [],
   "source": [
    "x_input=test_data[278:].reshape(1,-1)  # taking only lasat 100 data only from t\n",
    "                                       # test data"
   ]
  },
  {
   "cell_type": "code",
   "execution_count": 32,
   "metadata": {},
   "outputs": [
    {
     "data": {
      "text/plain": [
       "(1, 100)"
      ]
     },
     "execution_count": 32,
     "metadata": {},
     "output_type": "execute_result"
    }
   ],
   "source": [
    "x_input.shape"
   ]
  },
  {
   "cell_type": "code",
   "execution_count": 33,
   "metadata": {},
   "outputs": [
    {
     "name": "stdout",
     "output_type": "stream",
     "text": [
      "[[0.9129314  0.90423769 0.90977748 0.90666268 0.92077529 0.92774092\n",
      "  0.89988906 0.87529779 0.88019044 0.86775614 0.83135636 0.84407512\n",
      "  0.86299504 0.84464404 0.81280979 0.80305649 0.8111955  0.79394676\n",
      "  0.83337956 0.83152703 0.85142122 0.84285196 0.84007495 0.84369466\n",
      "  0.85929355 0.82098436 0.83768552 0.85045406 0.85992291 0.84199148\n",
      "  0.82748064 0.82953228 0.83795931 0.83069144 0.84448403 0.86827882\n",
      "  0.89165049 0.89061578 0.91037484 0.91745426 0.94337536 0.94593192\n",
      "  0.95326023 0.92943699 0.94582524 0.95306111 0.9433078  0.9300379\n",
      "  0.93975565 0.92091751 0.93223889 0.95646036 0.95945783 0.97406112\n",
      "  0.97861598 0.97723281 0.94845647 0.92192378 0.90722804 0.91996814\n",
      "  0.91471992 0.87876461 0.89064778 0.86505735 0.86844594 0.89028865\n",
      "  0.90717471 0.89362391 0.89345323 0.89909969 0.88324124 0.89814321\n",
      "  0.90314253 0.90531507 0.89285232 0.8903491  0.88877748 0.89423193\n",
      "  0.87752722 0.88435773 0.8814385  0.90494172 0.91100065 0.93535724\n",
      "  0.93435453 0.94752487 0.94726175 0.95868268 0.98499136 0.98415932\n",
      "  0.97244682 0.99075161 0.99017558 0.97071164 0.95377936 0.96886623\n",
      "  0.9703774  0.96753995 0.96498339 0.99272147]]\n"
     ]
    }
   ],
   "source": [
    "print(x_input)"
   ]
  },
  {
   "cell_type": "code",
   "execution_count": 34,
   "metadata": {},
   "outputs": [
    {
     "name": "stdout",
     "output_type": "stream",
     "text": [
      "[array([0.9129314 , 0.90423769, 0.90977748, 0.90666268, 0.92077529,\n",
      "       0.92774092, 0.89988906, 0.87529779, 0.88019044, 0.86775614,\n",
      "       0.83135636, 0.84407512, 0.86299504, 0.84464404, 0.81280979,\n",
      "       0.80305649, 0.8111955 , 0.79394676, 0.83337956, 0.83152703,\n",
      "       0.85142122, 0.84285196, 0.84007495, 0.84369466, 0.85929355,\n",
      "       0.82098436, 0.83768552, 0.85045406, 0.85992291, 0.84199148,\n",
      "       0.82748064, 0.82953228, 0.83795931, 0.83069144, 0.84448403,\n",
      "       0.86827882, 0.89165049, 0.89061578, 0.91037484, 0.91745426,\n",
      "       0.94337536, 0.94593192, 0.95326023, 0.92943699, 0.94582524,\n",
      "       0.95306111, 0.9433078 , 0.9300379 , 0.93975565, 0.92091751,\n",
      "       0.93223889, 0.95646036, 0.95945783, 0.97406112, 0.97861598,\n",
      "       0.97723281, 0.94845647, 0.92192378, 0.90722804, 0.91996814,\n",
      "       0.91471992, 0.87876461, 0.89064778, 0.86505735, 0.86844594,\n",
      "       0.89028865, 0.90717471, 0.89362391, 0.89345323, 0.89909969,\n",
      "       0.88324124, 0.89814321, 0.90314253, 0.90531507, 0.89285232,\n",
      "       0.8903491 , 0.88877748, 0.89423193, 0.87752722, 0.88435773,\n",
      "       0.8814385 , 0.90494172, 0.91100065, 0.93535724, 0.93435453,\n",
      "       0.94752487, 0.94726175, 0.95868268, 0.98499136, 0.98415932,\n",
      "       0.97244682, 0.99075161, 0.99017558, 0.97071164, 0.95377936,\n",
      "       0.96886623, 0.9703774 , 0.96753995, 0.96498339, 0.99272147])]\n"
     ]
    }
   ],
   "source": [
    "# converting the x_input into list\n",
    "temp_input=list(x_input)\n",
    "print(temp_input)"
   ]
  },
  {
   "cell_type": "code",
   "execution_count": 35,
   "metadata": {},
   "outputs": [],
   "source": [
    "temp_input=temp_input[0].tolist()"
   ]
  },
  {
   "cell_type": "code",
   "execution_count": 36,
   "metadata": {},
   "outputs": [
    {
     "name": "stdout",
     "output_type": "stream",
     "text": [
      "[0.9129313961840151, 0.9042376919192998, 0.9097774838393107, 0.9066626842745291, 0.9207752864122203, 0.92774091694579, 0.8998890619333093, 0.8752977904835051, 0.8801904436811527, 0.8677561353728873, 0.8313563600935863, 0.8440751249831104, 0.8629950433440716, 0.8446440381456277, 0.812809790995527, 0.8030564859656237, 0.8111954998968847, 0.7939467639508175, 0.833379557527788, 0.8315270340423415, 0.8514212161941135, 0.8428519616836987, 0.8400749543091617, 0.8436946643056773, 0.8592935520804446, 0.8209843619994455, 0.8376855190265897, 0.8504540638178342, 0.8599229122664791, 0.8419914805253916, 0.8274806391739384, 0.8295322822662659, 0.837959308486051, 0.8306914428348944, 0.8444840313186697, 0.8682788243409498, 0.8916504881986078, 0.8906157773842798, 0.9103748426599536, 0.9174542558260266, 0.9433753617932144, 0.9459319153172758, 0.95326022799195, 0.9294369893115442, 0.945825244099304, 0.9530611083850691, 0.9433078033551656, 0.9300379038394528, 0.939755651796699, 0.9209175147028497, 0.9322388866369411, 0.9564603645311092, 0.9594578257561213, 0.9740611154964836, 0.9786159765038867, 0.9772328063775169, 0.9484564674759457, 0.9219237798590518, 0.9072280417297807, 0.9199681408628992, 0.9147199169386786, 0.8787646050675941, 0.8906477787496712, 0.8650573535581965, 0.8684459425824391, 0.8902886523158324, 0.9071747061207946, 0.8936239057310893, 0.893453231782334, 0.8990996949203167, 0.8832412405151511, 0.8981432096658348, 0.9031425340814543, 0.9053150712208167, 0.8928523172544254, 0.8903490993393499, 0.8887774767278962, 0.8942319316735292, 0.8775272189391194, 0.8843577325965908, 0.8814384969314248, 0.9049417219579148, 0.9110006471387226, 0.9353572419089884, 0.9343545324600517, 0.947524872172324, 0.9472617498346598, 0.9586826815721916, 0.9849913596313444, 0.9841593241311632, 0.9724468243978412, 0.9907516054018306, 0.9901755808247821, 0.9707116392521637, 0.953779361252747, 0.9688662271812487, 0.9703774027691849, 0.9675399483711307, 0.9649833948470692, 0.9927214672270464]\n"
     ]
    }
   ],
   "source": [
    "print(temp_input)"
   ]
  },
  {
   "cell_type": "code",
   "execution_count": 37,
   "metadata": {},
   "outputs": [
    {
     "name": "stdout",
     "output_type": "stream",
     "text": [
      "(1, 100, 1)\n",
      "[0.85469323]\n",
      "1 day input [0.90423769 0.90977748 0.90666268 0.92077529 0.92774092 0.89988906\n",
      " 0.87529779 0.88019044 0.86775614 0.83135636 0.84407512 0.86299504\n",
      " 0.84464404 0.81280979 0.80305649 0.8111955  0.79394676 0.83337956\n",
      " 0.83152703 0.85142122 0.84285196 0.84007495 0.84369466 0.85929355\n",
      " 0.82098436 0.83768552 0.85045406 0.85992291 0.84199148 0.82748064\n",
      " 0.82953228 0.83795931 0.83069144 0.84448403 0.86827882 0.89165049\n",
      " 0.89061578 0.91037484 0.91745426 0.94337536 0.94593192 0.95326023\n",
      " 0.92943699 0.94582524 0.95306111 0.9433078  0.9300379  0.93975565\n",
      " 0.92091751 0.93223889 0.95646036 0.95945783 0.97406112 0.97861598\n",
      " 0.97723281 0.94845647 0.92192378 0.90722804 0.91996814 0.91471992\n",
      " 0.87876461 0.89064778 0.86505735 0.86844594 0.89028865 0.90717471\n",
      " 0.89362391 0.89345323 0.89909969 0.88324124 0.89814321 0.90314253\n",
      " 0.90531507 0.89285232 0.8903491  0.88877748 0.89423193 0.87752722\n",
      " 0.88435773 0.8814385  0.90494172 0.91100065 0.93535724 0.93435453\n",
      " 0.94752487 0.94726175 0.95868268 0.98499136 0.98415932 0.97244682\n",
      " 0.99075161 0.99017558 0.97071164 0.95377936 0.96886623 0.9703774\n",
      " 0.96753995 0.96498339 0.99272147 0.85469323]\n",
      "(1, 100, 1)\n",
      "1 day output [[0.8422258]]\n",
      "2 day input [0.90977748 0.90666268 0.92077529 0.92774092 0.89988906 0.87529779\n",
      " 0.88019044 0.86775614 0.83135636 0.84407512 0.86299504 0.84464404\n",
      " 0.81280979 0.80305649 0.8111955  0.79394676 0.83337956 0.83152703\n",
      " 0.85142122 0.84285196 0.84007495 0.84369466 0.85929355 0.82098436\n",
      " 0.83768552 0.85045406 0.85992291 0.84199148 0.82748064 0.82953228\n",
      " 0.83795931 0.83069144 0.84448403 0.86827882 0.89165049 0.89061578\n",
      " 0.91037484 0.91745426 0.94337536 0.94593192 0.95326023 0.92943699\n",
      " 0.94582524 0.95306111 0.9433078  0.9300379  0.93975565 0.92091751\n",
      " 0.93223889 0.95646036 0.95945783 0.97406112 0.97861598 0.97723281\n",
      " 0.94845647 0.92192378 0.90722804 0.91996814 0.91471992 0.87876461\n",
      " 0.89064778 0.86505735 0.86844594 0.89028865 0.90717471 0.89362391\n",
      " 0.89345323 0.89909969 0.88324124 0.89814321 0.90314253 0.90531507\n",
      " 0.89285232 0.8903491  0.88877748 0.89423193 0.87752722 0.88435773\n",
      " 0.8814385  0.90494172 0.91100065 0.93535724 0.93435453 0.94752487\n",
      " 0.94726175 0.95868268 0.98499136 0.98415932 0.97244682 0.99075161\n",
      " 0.99017558 0.97071164 0.95377936 0.96886623 0.9703774  0.96753995\n",
      " 0.96498339 0.99272147 0.85469323 0.84222579]\n",
      "(1, 100, 1)\n",
      "2 day output [[0.81973886]]\n",
      "3 day input [0.90666268 0.92077529 0.92774092 0.89988906 0.87529779 0.88019044\n",
      " 0.86775614 0.83135636 0.84407512 0.86299504 0.84464404 0.81280979\n",
      " 0.80305649 0.8111955  0.79394676 0.83337956 0.83152703 0.85142122\n",
      " 0.84285196 0.84007495 0.84369466 0.85929355 0.82098436 0.83768552\n",
      " 0.85045406 0.85992291 0.84199148 0.82748064 0.82953228 0.83795931\n",
      " 0.83069144 0.84448403 0.86827882 0.89165049 0.89061578 0.91037484\n",
      " 0.91745426 0.94337536 0.94593192 0.95326023 0.92943699 0.94582524\n",
      " 0.95306111 0.9433078  0.9300379  0.93975565 0.92091751 0.93223889\n",
      " 0.95646036 0.95945783 0.97406112 0.97861598 0.97723281 0.94845647\n",
      " 0.92192378 0.90722804 0.91996814 0.91471992 0.87876461 0.89064778\n",
      " 0.86505735 0.86844594 0.89028865 0.90717471 0.89362391 0.89345323\n",
      " 0.89909969 0.88324124 0.89814321 0.90314253 0.90531507 0.89285232\n",
      " 0.8903491  0.88877748 0.89423193 0.87752722 0.88435773 0.8814385\n",
      " 0.90494172 0.91100065 0.93535724 0.93435453 0.94752487 0.94726175\n",
      " 0.95868268 0.98499136 0.98415932 0.97244682 0.99075161 0.99017558\n",
      " 0.97071164 0.95377936 0.96886623 0.9703774  0.96753995 0.96498339\n",
      " 0.99272147 0.85469323 0.84222579 0.81973886]\n",
      "(1, 100, 1)\n",
      "3 day output [[0.79151446]]\n",
      "4 day input [0.92077529 0.92774092 0.89988906 0.87529779 0.88019044 0.86775614\n",
      " 0.83135636 0.84407512 0.86299504 0.84464404 0.81280979 0.80305649\n",
      " 0.8111955  0.79394676 0.83337956 0.83152703 0.85142122 0.84285196\n",
      " 0.84007495 0.84369466 0.85929355 0.82098436 0.83768552 0.85045406\n",
      " 0.85992291 0.84199148 0.82748064 0.82953228 0.83795931 0.83069144\n",
      " 0.84448403 0.86827882 0.89165049 0.89061578 0.91037484 0.91745426\n",
      " 0.94337536 0.94593192 0.95326023 0.92943699 0.94582524 0.95306111\n",
      " 0.9433078  0.9300379  0.93975565 0.92091751 0.93223889 0.95646036\n",
      " 0.95945783 0.97406112 0.97861598 0.97723281 0.94845647 0.92192378\n",
      " 0.90722804 0.91996814 0.91471992 0.87876461 0.89064778 0.86505735\n",
      " 0.86844594 0.89028865 0.90717471 0.89362391 0.89345323 0.89909969\n",
      " 0.88324124 0.89814321 0.90314253 0.90531507 0.89285232 0.8903491\n",
      " 0.88877748 0.89423193 0.87752722 0.88435773 0.8814385  0.90494172\n",
      " 0.91100065 0.93535724 0.93435453 0.94752487 0.94726175 0.95868268\n",
      " 0.98499136 0.98415932 0.97244682 0.99075161 0.99017558 0.97071164\n",
      " 0.95377936 0.96886623 0.9703774  0.96753995 0.96498339 0.99272147\n",
      " 0.85469323 0.84222579 0.81973886 0.79151446]\n",
      "(1, 100, 1)\n",
      "4 day output [[0.7605946]]\n",
      "5 day input [0.92774092 0.89988906 0.87529779 0.88019044 0.86775614 0.83135636\n",
      " 0.84407512 0.86299504 0.84464404 0.81280979 0.80305649 0.8111955\n",
      " 0.79394676 0.83337956 0.83152703 0.85142122 0.84285196 0.84007495\n",
      " 0.84369466 0.85929355 0.82098436 0.83768552 0.85045406 0.85992291\n",
      " 0.84199148 0.82748064 0.82953228 0.83795931 0.83069144 0.84448403\n",
      " 0.86827882 0.89165049 0.89061578 0.91037484 0.91745426 0.94337536\n",
      " 0.94593192 0.95326023 0.92943699 0.94582524 0.95306111 0.9433078\n",
      " 0.9300379  0.93975565 0.92091751 0.93223889 0.95646036 0.95945783\n",
      " 0.97406112 0.97861598 0.97723281 0.94845647 0.92192378 0.90722804\n",
      " 0.91996814 0.91471992 0.87876461 0.89064778 0.86505735 0.86844594\n",
      " 0.89028865 0.90717471 0.89362391 0.89345323 0.89909969 0.88324124\n",
      " 0.89814321 0.90314253 0.90531507 0.89285232 0.8903491  0.88877748\n",
      " 0.89423193 0.87752722 0.88435773 0.8814385  0.90494172 0.91100065\n",
      " 0.93535724 0.93435453 0.94752487 0.94726175 0.95868268 0.98499136\n",
      " 0.98415932 0.97244682 0.99075161 0.99017558 0.97071164 0.95377936\n",
      " 0.96886623 0.9703774  0.96753995 0.96498339 0.99272147 0.85469323\n",
      " 0.84222579 0.81973886 0.79151446 0.76059461]\n",
      "(1, 100, 1)\n",
      "5 day output [[0.72875494]]\n",
      "6 day input [0.89988906 0.87529779 0.88019044 0.86775614 0.83135636 0.84407512\n",
      " 0.86299504 0.84464404 0.81280979 0.80305649 0.8111955  0.79394676\n",
      " 0.83337956 0.83152703 0.85142122 0.84285196 0.84007495 0.84369466\n",
      " 0.85929355 0.82098436 0.83768552 0.85045406 0.85992291 0.84199148\n",
      " 0.82748064 0.82953228 0.83795931 0.83069144 0.84448403 0.86827882\n",
      " 0.89165049 0.89061578 0.91037484 0.91745426 0.94337536 0.94593192\n",
      " 0.95326023 0.92943699 0.94582524 0.95306111 0.9433078  0.9300379\n",
      " 0.93975565 0.92091751 0.93223889 0.95646036 0.95945783 0.97406112\n",
      " 0.97861598 0.97723281 0.94845647 0.92192378 0.90722804 0.91996814\n",
      " 0.91471992 0.87876461 0.89064778 0.86505735 0.86844594 0.89028865\n",
      " 0.90717471 0.89362391 0.89345323 0.89909969 0.88324124 0.89814321\n",
      " 0.90314253 0.90531507 0.89285232 0.8903491  0.88877748 0.89423193\n",
      " 0.87752722 0.88435773 0.8814385  0.90494172 0.91100065 0.93535724\n",
      " 0.93435453 0.94752487 0.94726175 0.95868268 0.98499136 0.98415932\n",
      " 0.97244682 0.99075161 0.99017558 0.97071164 0.95377936 0.96886623\n",
      " 0.9703774  0.96753995 0.96498339 0.99272147 0.85469323 0.84222579\n",
      " 0.81973886 0.79151446 0.76059461 0.72875494]\n",
      "(1, 100, 1)\n",
      "6 day output [[0.69689655]]\n",
      "7 day input [0.87529779 0.88019044 0.86775614 0.83135636 0.84407512 0.86299504\n",
      " 0.84464404 0.81280979 0.80305649 0.8111955  0.79394676 0.83337956\n",
      " 0.83152703 0.85142122 0.84285196 0.84007495 0.84369466 0.85929355\n",
      " 0.82098436 0.83768552 0.85045406 0.85992291 0.84199148 0.82748064\n",
      " 0.82953228 0.83795931 0.83069144 0.84448403 0.86827882 0.89165049\n",
      " 0.89061578 0.91037484 0.91745426 0.94337536 0.94593192 0.95326023\n",
      " 0.92943699 0.94582524 0.95306111 0.9433078  0.9300379  0.93975565\n",
      " 0.92091751 0.93223889 0.95646036 0.95945783 0.97406112 0.97861598\n",
      " 0.97723281 0.94845647 0.92192378 0.90722804 0.91996814 0.91471992\n",
      " 0.87876461 0.89064778 0.86505735 0.86844594 0.89028865 0.90717471\n",
      " 0.89362391 0.89345323 0.89909969 0.88324124 0.89814321 0.90314253\n",
      " 0.90531507 0.89285232 0.8903491  0.88877748 0.89423193 0.87752722\n",
      " 0.88435773 0.8814385  0.90494172 0.91100065 0.93535724 0.93435453\n",
      " 0.94752487 0.94726175 0.95868268 0.98499136 0.98415932 0.97244682\n",
      " 0.99075161 0.99017558 0.97071164 0.95377936 0.96886623 0.9703774\n",
      " 0.96753995 0.96498339 0.99272147 0.85469323 0.84222579 0.81973886\n",
      " 0.79151446 0.76059461 0.72875494 0.69689655]\n",
      "(1, 100, 1)\n",
      "7 day output [[0.6654185]]\n",
      "8 day input [0.88019044 0.86775614 0.83135636 0.84407512 0.86299504 0.84464404\n",
      " 0.81280979 0.80305649 0.8111955  0.79394676 0.83337956 0.83152703\n",
      " 0.85142122 0.84285196 0.84007495 0.84369466 0.85929355 0.82098436\n",
      " 0.83768552 0.85045406 0.85992291 0.84199148 0.82748064 0.82953228\n",
      " 0.83795931 0.83069144 0.84448403 0.86827882 0.89165049 0.89061578\n",
      " 0.91037484 0.91745426 0.94337536 0.94593192 0.95326023 0.92943699\n",
      " 0.94582524 0.95306111 0.9433078  0.9300379  0.93975565 0.92091751\n",
      " 0.93223889 0.95646036 0.95945783 0.97406112 0.97861598 0.97723281\n",
      " 0.94845647 0.92192378 0.90722804 0.91996814 0.91471992 0.87876461\n",
      " 0.89064778 0.86505735 0.86844594 0.89028865 0.90717471 0.89362391\n",
      " 0.89345323 0.89909969 0.88324124 0.89814321 0.90314253 0.90531507\n",
      " 0.89285232 0.8903491  0.88877748 0.89423193 0.87752722 0.88435773\n",
      " 0.8814385  0.90494172 0.91100065 0.93535724 0.93435453 0.94752487\n",
      " 0.94726175 0.95868268 0.98499136 0.98415932 0.97244682 0.99075161\n",
      " 0.99017558 0.97071164 0.95377936 0.96886623 0.9703774  0.96753995\n",
      " 0.96498339 0.99272147 0.85469323 0.84222579 0.81973886 0.79151446\n",
      " 0.76059461 0.72875494 0.69689655 0.66541851]\n",
      "(1, 100, 1)\n"
     ]
    },
    {
     "name": "stdout",
     "output_type": "stream",
     "text": [
      "8 day output [[0.6344619]]\n",
      "9 day input [0.86775614 0.83135636 0.84407512 0.86299504 0.84464404 0.81280979\n",
      " 0.80305649 0.8111955  0.79394676 0.83337956 0.83152703 0.85142122\n",
      " 0.84285196 0.84007495 0.84369466 0.85929355 0.82098436 0.83768552\n",
      " 0.85045406 0.85992291 0.84199148 0.82748064 0.82953228 0.83795931\n",
      " 0.83069144 0.84448403 0.86827882 0.89165049 0.89061578 0.91037484\n",
      " 0.91745426 0.94337536 0.94593192 0.95326023 0.92943699 0.94582524\n",
      " 0.95306111 0.9433078  0.9300379  0.93975565 0.92091751 0.93223889\n",
      " 0.95646036 0.95945783 0.97406112 0.97861598 0.97723281 0.94845647\n",
      " 0.92192378 0.90722804 0.91996814 0.91471992 0.87876461 0.89064778\n",
      " 0.86505735 0.86844594 0.89028865 0.90717471 0.89362391 0.89345323\n",
      " 0.89909969 0.88324124 0.89814321 0.90314253 0.90531507 0.89285232\n",
      " 0.8903491  0.88877748 0.89423193 0.87752722 0.88435773 0.8814385\n",
      " 0.90494172 0.91100065 0.93535724 0.93435453 0.94752487 0.94726175\n",
      " 0.95868268 0.98499136 0.98415932 0.97244682 0.99075161 0.99017558\n",
      " 0.97071164 0.95377936 0.96886623 0.9703774  0.96753995 0.96498339\n",
      " 0.99272147 0.85469323 0.84222579 0.81973886 0.79151446 0.76059461\n",
      " 0.72875494 0.69689655 0.66541851 0.63446188]\n",
      "(1, 100, 1)\n",
      "9 day output [[0.6040436]]\n",
      "10 day input [0.83135636 0.84407512 0.86299504 0.84464404 0.81280979 0.80305649\n",
      " 0.8111955  0.79394676 0.83337956 0.83152703 0.85142122 0.84285196\n",
      " 0.84007495 0.84369466 0.85929355 0.82098436 0.83768552 0.85045406\n",
      " 0.85992291 0.84199148 0.82748064 0.82953228 0.83795931 0.83069144\n",
      " 0.84448403 0.86827882 0.89165049 0.89061578 0.91037484 0.91745426\n",
      " 0.94337536 0.94593192 0.95326023 0.92943699 0.94582524 0.95306111\n",
      " 0.9433078  0.9300379  0.93975565 0.92091751 0.93223889 0.95646036\n",
      " 0.95945783 0.97406112 0.97861598 0.97723281 0.94845647 0.92192378\n",
      " 0.90722804 0.91996814 0.91471992 0.87876461 0.89064778 0.86505735\n",
      " 0.86844594 0.89028865 0.90717471 0.89362391 0.89345323 0.89909969\n",
      " 0.88324124 0.89814321 0.90314253 0.90531507 0.89285232 0.8903491\n",
      " 0.88877748 0.89423193 0.87752722 0.88435773 0.8814385  0.90494172\n",
      " 0.91100065 0.93535724 0.93435453 0.94752487 0.94726175 0.95868268\n",
      " 0.98499136 0.98415932 0.97244682 0.99075161 0.99017558 0.97071164\n",
      " 0.95377936 0.96886623 0.9703774  0.96753995 0.96498339 0.99272147\n",
      " 0.85469323 0.84222579 0.81973886 0.79151446 0.76059461 0.72875494\n",
      " 0.69689655 0.66541851 0.63446188 0.6040436 ]\n",
      "(1, 100, 1)\n",
      "10 day output [[0.5741227]]\n",
      "11 day input [0.84407512 0.86299504 0.84464404 0.81280979 0.80305649 0.8111955\n",
      " 0.79394676 0.83337956 0.83152703 0.85142122 0.84285196 0.84007495\n",
      " 0.84369466 0.85929355 0.82098436 0.83768552 0.85045406 0.85992291\n",
      " 0.84199148 0.82748064 0.82953228 0.83795931 0.83069144 0.84448403\n",
      " 0.86827882 0.89165049 0.89061578 0.91037484 0.91745426 0.94337536\n",
      " 0.94593192 0.95326023 0.92943699 0.94582524 0.95306111 0.9433078\n",
      " 0.9300379  0.93975565 0.92091751 0.93223889 0.95646036 0.95945783\n",
      " 0.97406112 0.97861598 0.97723281 0.94845647 0.92192378 0.90722804\n",
      " 0.91996814 0.91471992 0.87876461 0.89064778 0.86505735 0.86844594\n",
      " 0.89028865 0.90717471 0.89362391 0.89345323 0.89909969 0.88324124\n",
      " 0.89814321 0.90314253 0.90531507 0.89285232 0.8903491  0.88877748\n",
      " 0.89423193 0.87752722 0.88435773 0.8814385  0.90494172 0.91100065\n",
      " 0.93535724 0.93435453 0.94752487 0.94726175 0.95868268 0.98499136\n",
      " 0.98415932 0.97244682 0.99075161 0.99017558 0.97071164 0.95377936\n",
      " 0.96886623 0.9703774  0.96753995 0.96498339 0.99272147 0.85469323\n",
      " 0.84222579 0.81973886 0.79151446 0.76059461 0.72875494 0.69689655\n",
      " 0.66541851 0.63446188 0.6040436  0.57412273]\n",
      "(1, 100, 1)\n",
      "11 day output [[0.5446375]]\n",
      "12 day input [0.86299504 0.84464404 0.81280979 0.80305649 0.8111955  0.79394676\n",
      " 0.83337956 0.83152703 0.85142122 0.84285196 0.84007495 0.84369466\n",
      " 0.85929355 0.82098436 0.83768552 0.85045406 0.85992291 0.84199148\n",
      " 0.82748064 0.82953228 0.83795931 0.83069144 0.84448403 0.86827882\n",
      " 0.89165049 0.89061578 0.91037484 0.91745426 0.94337536 0.94593192\n",
      " 0.95326023 0.92943699 0.94582524 0.95306111 0.9433078  0.9300379\n",
      " 0.93975565 0.92091751 0.93223889 0.95646036 0.95945783 0.97406112\n",
      " 0.97861598 0.97723281 0.94845647 0.92192378 0.90722804 0.91996814\n",
      " 0.91471992 0.87876461 0.89064778 0.86505735 0.86844594 0.89028865\n",
      " 0.90717471 0.89362391 0.89345323 0.89909969 0.88324124 0.89814321\n",
      " 0.90314253 0.90531507 0.89285232 0.8903491  0.88877748 0.89423193\n",
      " 0.87752722 0.88435773 0.8814385  0.90494172 0.91100065 0.93535724\n",
      " 0.93435453 0.94752487 0.94726175 0.95868268 0.98499136 0.98415932\n",
      " 0.97244682 0.99075161 0.99017558 0.97071164 0.95377936 0.96886623\n",
      " 0.9703774  0.96753995 0.96498339 0.99272147 0.85469323 0.84222579\n",
      " 0.81973886 0.79151446 0.76059461 0.72875494 0.69689655 0.66541851\n",
      " 0.63446188 0.6040436  0.57412273 0.5446375 ]\n",
      "(1, 100, 1)\n",
      "12 day output [[0.5155375]]\n",
      "13 day input [0.84464404 0.81280979 0.80305649 0.8111955  0.79394676 0.83337956\n",
      " 0.83152703 0.85142122 0.84285196 0.84007495 0.84369466 0.85929355\n",
      " 0.82098436 0.83768552 0.85045406 0.85992291 0.84199148 0.82748064\n",
      " 0.82953228 0.83795931 0.83069144 0.84448403 0.86827882 0.89165049\n",
      " 0.89061578 0.91037484 0.91745426 0.94337536 0.94593192 0.95326023\n",
      " 0.92943699 0.94582524 0.95306111 0.9433078  0.9300379  0.93975565\n",
      " 0.92091751 0.93223889 0.95646036 0.95945783 0.97406112 0.97861598\n",
      " 0.97723281 0.94845647 0.92192378 0.90722804 0.91996814 0.91471992\n",
      " 0.87876461 0.89064778 0.86505735 0.86844594 0.89028865 0.90717471\n",
      " 0.89362391 0.89345323 0.89909969 0.88324124 0.89814321 0.90314253\n",
      " 0.90531507 0.89285232 0.8903491  0.88877748 0.89423193 0.87752722\n",
      " 0.88435773 0.8814385  0.90494172 0.91100065 0.93535724 0.93435453\n",
      " 0.94752487 0.94726175 0.95868268 0.98499136 0.98415932 0.97244682\n",
      " 0.99075161 0.99017558 0.97071164 0.95377936 0.96886623 0.9703774\n",
      " 0.96753995 0.96498339 0.99272147 0.85469323 0.84222579 0.81973886\n",
      " 0.79151446 0.76059461 0.72875494 0.69689655 0.66541851 0.63446188\n",
      " 0.6040436  0.57412273 0.5446375  0.5155375 ]\n",
      "(1, 100, 1)\n",
      "13 day output [[0.48682263]]\n",
      "14 day input [0.81280979 0.80305649 0.8111955  0.79394676 0.83337956 0.83152703\n",
      " 0.85142122 0.84285196 0.84007495 0.84369466 0.85929355 0.82098436\n",
      " 0.83768552 0.85045406 0.85992291 0.84199148 0.82748064 0.82953228\n",
      " 0.83795931 0.83069144 0.84448403 0.86827882 0.89165049 0.89061578\n",
      " 0.91037484 0.91745426 0.94337536 0.94593192 0.95326023 0.92943699\n",
      " 0.94582524 0.95306111 0.9433078  0.9300379  0.93975565 0.92091751\n",
      " 0.93223889 0.95646036 0.95945783 0.97406112 0.97861598 0.97723281\n",
      " 0.94845647 0.92192378 0.90722804 0.91996814 0.91471992 0.87876461\n",
      " 0.89064778 0.86505735 0.86844594 0.89028865 0.90717471 0.89362391\n",
      " 0.89345323 0.89909969 0.88324124 0.89814321 0.90314253 0.90531507\n",
      " 0.89285232 0.8903491  0.88877748 0.89423193 0.87752722 0.88435773\n",
      " 0.8814385  0.90494172 0.91100065 0.93535724 0.93435453 0.94752487\n",
      " 0.94726175 0.95868268 0.98499136 0.98415932 0.97244682 0.99075161\n",
      " 0.99017558 0.97071164 0.95377936 0.96886623 0.9703774  0.96753995\n",
      " 0.96498339 0.99272147 0.85469323 0.84222579 0.81973886 0.79151446\n",
      " 0.76059461 0.72875494 0.69689655 0.66541851 0.63446188 0.6040436\n",
      " 0.57412273 0.5446375  0.5155375  0.48682263]\n",
      "(1, 100, 1)\n",
      "14 day output [[0.4585873]]\n",
      "15 day input [0.80305649 0.8111955  0.79394676 0.83337956 0.83152703 0.85142122\n",
      " 0.84285196 0.84007495 0.84369466 0.85929355 0.82098436 0.83768552\n",
      " 0.85045406 0.85992291 0.84199148 0.82748064 0.82953228 0.83795931\n",
      " 0.83069144 0.84448403 0.86827882 0.89165049 0.89061578 0.91037484\n",
      " 0.91745426 0.94337536 0.94593192 0.95326023 0.92943699 0.94582524\n",
      " 0.95306111 0.9433078  0.9300379  0.93975565 0.92091751 0.93223889\n",
      " 0.95646036 0.95945783 0.97406112 0.97861598 0.97723281 0.94845647\n",
      " 0.92192378 0.90722804 0.91996814 0.91471992 0.87876461 0.89064778\n",
      " 0.86505735 0.86844594 0.89028865 0.90717471 0.89362391 0.89345323\n",
      " 0.89909969 0.88324124 0.89814321 0.90314253 0.90531507 0.89285232\n",
      " 0.8903491  0.88877748 0.89423193 0.87752722 0.88435773 0.8814385\n",
      " 0.90494172 0.91100065 0.93535724 0.93435453 0.94752487 0.94726175\n",
      " 0.95868268 0.98499136 0.98415932 0.97244682 0.99075161 0.99017558\n",
      " 0.97071164 0.95377936 0.96886623 0.9703774  0.96753995 0.96498339\n",
      " 0.99272147 0.85469323 0.84222579 0.81973886 0.79151446 0.76059461\n",
      " 0.72875494 0.69689655 0.66541851 0.63446188 0.6040436  0.57412273\n",
      " 0.5446375  0.5155375  0.48682263 0.45858729]\n",
      "(1, 100, 1)\n",
      "15 day output [[0.43106186]]\n",
      "16 day input [0.8111955  0.79394676 0.83337956 0.83152703 0.85142122 0.84285196\n",
      " 0.84007495 0.84369466 0.85929355 0.82098436 0.83768552 0.85045406\n",
      " 0.85992291 0.84199148 0.82748064 0.82953228 0.83795931 0.83069144\n",
      " 0.84448403 0.86827882 0.89165049 0.89061578 0.91037484 0.91745426\n",
      " 0.94337536 0.94593192 0.95326023 0.92943699 0.94582524 0.95306111\n",
      " 0.9433078  0.9300379  0.93975565 0.92091751 0.93223889 0.95646036\n",
      " 0.95945783 0.97406112 0.97861598 0.97723281 0.94845647 0.92192378\n",
      " 0.90722804 0.91996814 0.91471992 0.87876461 0.89064778 0.86505735\n",
      " 0.86844594 0.89028865 0.90717471 0.89362391 0.89345323 0.89909969\n",
      " 0.88324124 0.89814321 0.90314253 0.90531507 0.89285232 0.8903491\n",
      " 0.88877748 0.89423193 0.87752722 0.88435773 0.8814385  0.90494172\n",
      " 0.91100065 0.93535724 0.93435453 0.94752487 0.94726175 0.95868268\n",
      " 0.98499136 0.98415932 0.97244682 0.99075161 0.99017558 0.97071164\n",
      " 0.95377936 0.96886623 0.9703774  0.96753995 0.96498339 0.99272147\n",
      " 0.85469323 0.84222579 0.81973886 0.79151446 0.76059461 0.72875494\n",
      " 0.69689655 0.66541851 0.63446188 0.6040436  0.57412273 0.5446375\n",
      " 0.5155375  0.48682263 0.45858729 0.43106186]\n",
      "(1, 100, 1)\n",
      "16 day output [[0.40462926]]\n",
      "17 day input [0.79394676 0.83337956 0.83152703 0.85142122 0.84285196 0.84007495\n",
      " 0.84369466 0.85929355 0.82098436 0.83768552 0.85045406 0.85992291\n",
      " 0.84199148 0.82748064 0.82953228 0.83795931 0.83069144 0.84448403\n",
      " 0.86827882 0.89165049 0.89061578 0.91037484 0.91745426 0.94337536\n",
      " 0.94593192 0.95326023 0.92943699 0.94582524 0.95306111 0.9433078\n",
      " 0.9300379  0.93975565 0.92091751 0.93223889 0.95646036 0.95945783\n",
      " 0.97406112 0.97861598 0.97723281 0.94845647 0.92192378 0.90722804\n",
      " 0.91996814 0.91471992 0.87876461 0.89064778 0.86505735 0.86844594\n",
      " 0.89028865 0.90717471 0.89362391 0.89345323 0.89909969 0.88324124\n",
      " 0.89814321 0.90314253 0.90531507 0.89285232 0.8903491  0.88877748\n",
      " 0.89423193 0.87752722 0.88435773 0.8814385  0.90494172 0.91100065\n",
      " 0.93535724 0.93435453 0.94752487 0.94726175 0.95868268 0.98499136\n",
      " 0.98415932 0.97244682 0.99075161 0.99017558 0.97071164 0.95377936\n",
      " 0.96886623 0.9703774  0.96753995 0.96498339 0.99272147 0.85469323\n",
      " 0.84222579 0.81973886 0.79151446 0.76059461 0.72875494 0.69689655\n",
      " 0.66541851 0.63446188 0.6040436  0.57412273 0.5446375  0.5155375\n",
      " 0.48682263 0.45858729 0.43106186 0.40462926]\n",
      "(1, 100, 1)\n"
     ]
    },
    {
     "name": "stdout",
     "output_type": "stream",
     "text": [
      "17 day output [[0.37979746]]\n",
      "18 day input [0.83337956 0.83152703 0.85142122 0.84285196 0.84007495 0.84369466\n",
      " 0.85929355 0.82098436 0.83768552 0.85045406 0.85992291 0.84199148\n",
      " 0.82748064 0.82953228 0.83795931 0.83069144 0.84448403 0.86827882\n",
      " 0.89165049 0.89061578 0.91037484 0.91745426 0.94337536 0.94593192\n",
      " 0.95326023 0.92943699 0.94582524 0.95306111 0.9433078  0.9300379\n",
      " 0.93975565 0.92091751 0.93223889 0.95646036 0.95945783 0.97406112\n",
      " 0.97861598 0.97723281 0.94845647 0.92192378 0.90722804 0.91996814\n",
      " 0.91471992 0.87876461 0.89064778 0.86505735 0.86844594 0.89028865\n",
      " 0.90717471 0.89362391 0.89345323 0.89909969 0.88324124 0.89814321\n",
      " 0.90314253 0.90531507 0.89285232 0.8903491  0.88877748 0.89423193\n",
      " 0.87752722 0.88435773 0.8814385  0.90494172 0.91100065 0.93535724\n",
      " 0.93435453 0.94752487 0.94726175 0.95868268 0.98499136 0.98415932\n",
      " 0.97244682 0.99075161 0.99017558 0.97071164 0.95377936 0.96886623\n",
      " 0.9703774  0.96753995 0.96498339 0.99272147 0.85469323 0.84222579\n",
      " 0.81973886 0.79151446 0.76059461 0.72875494 0.69689655 0.66541851\n",
      " 0.63446188 0.6040436  0.57412273 0.5446375  0.5155375  0.48682263\n",
      " 0.45858729 0.43106186 0.40462926 0.37979746]\n",
      "(1, 100, 1)\n",
      "18 day output [[0.3571221]]\n",
      "19 day input [0.83152703 0.85142122 0.84285196 0.84007495 0.84369466 0.85929355\n",
      " 0.82098436 0.83768552 0.85045406 0.85992291 0.84199148 0.82748064\n",
      " 0.82953228 0.83795931 0.83069144 0.84448403 0.86827882 0.89165049\n",
      " 0.89061578 0.91037484 0.91745426 0.94337536 0.94593192 0.95326023\n",
      " 0.92943699 0.94582524 0.95306111 0.9433078  0.9300379  0.93975565\n",
      " 0.92091751 0.93223889 0.95646036 0.95945783 0.97406112 0.97861598\n",
      " 0.97723281 0.94845647 0.92192378 0.90722804 0.91996814 0.91471992\n",
      " 0.87876461 0.89064778 0.86505735 0.86844594 0.89028865 0.90717471\n",
      " 0.89362391 0.89345323 0.89909969 0.88324124 0.89814321 0.90314253\n",
      " 0.90531507 0.89285232 0.8903491  0.88877748 0.89423193 0.87752722\n",
      " 0.88435773 0.8814385  0.90494172 0.91100065 0.93535724 0.93435453\n",
      " 0.94752487 0.94726175 0.95868268 0.98499136 0.98415932 0.97244682\n",
      " 0.99075161 0.99017558 0.97071164 0.95377936 0.96886623 0.9703774\n",
      " 0.96753995 0.96498339 0.99272147 0.85469323 0.84222579 0.81973886\n",
      " 0.79151446 0.76059461 0.72875494 0.69689655 0.66541851 0.63446188\n",
      " 0.6040436  0.57412273 0.5446375  0.5155375  0.48682263 0.45858729\n",
      " 0.43106186 0.40462926 0.37979746 0.35712209]\n",
      "(1, 100, 1)\n",
      "19 day output [[0.3370966]]\n",
      "20 day input [0.85142122 0.84285196 0.84007495 0.84369466 0.85929355 0.82098436\n",
      " 0.83768552 0.85045406 0.85992291 0.84199148 0.82748064 0.82953228\n",
      " 0.83795931 0.83069144 0.84448403 0.86827882 0.89165049 0.89061578\n",
      " 0.91037484 0.91745426 0.94337536 0.94593192 0.95326023 0.92943699\n",
      " 0.94582524 0.95306111 0.9433078  0.9300379  0.93975565 0.92091751\n",
      " 0.93223889 0.95646036 0.95945783 0.97406112 0.97861598 0.97723281\n",
      " 0.94845647 0.92192378 0.90722804 0.91996814 0.91471992 0.87876461\n",
      " 0.89064778 0.86505735 0.86844594 0.89028865 0.90717471 0.89362391\n",
      " 0.89345323 0.89909969 0.88324124 0.89814321 0.90314253 0.90531507\n",
      " 0.89285232 0.8903491  0.88877748 0.89423193 0.87752722 0.88435773\n",
      " 0.8814385  0.90494172 0.91100065 0.93535724 0.93435453 0.94752487\n",
      " 0.94726175 0.95868268 0.98499136 0.98415932 0.97244682 0.99075161\n",
      " 0.99017558 0.97071164 0.95377936 0.96886623 0.9703774  0.96753995\n",
      " 0.96498339 0.99272147 0.85469323 0.84222579 0.81973886 0.79151446\n",
      " 0.76059461 0.72875494 0.69689655 0.66541851 0.63446188 0.6040436\n",
      " 0.57412273 0.5446375  0.5155375  0.48682263 0.45858729 0.43106186\n",
      " 0.40462926 0.37979746 0.35712209 0.3370966 ]\n",
      "(1, 100, 1)\n",
      "20 day output [[0.3200507]]\n",
      "21 day input [0.84285196 0.84007495 0.84369466 0.85929355 0.82098436 0.83768552\n",
      " 0.85045406 0.85992291 0.84199148 0.82748064 0.82953228 0.83795931\n",
      " 0.83069144 0.84448403 0.86827882 0.89165049 0.89061578 0.91037484\n",
      " 0.91745426 0.94337536 0.94593192 0.95326023 0.92943699 0.94582524\n",
      " 0.95306111 0.9433078  0.9300379  0.93975565 0.92091751 0.93223889\n",
      " 0.95646036 0.95945783 0.97406112 0.97861598 0.97723281 0.94845647\n",
      " 0.92192378 0.90722804 0.91996814 0.91471992 0.87876461 0.89064778\n",
      " 0.86505735 0.86844594 0.89028865 0.90717471 0.89362391 0.89345323\n",
      " 0.89909969 0.88324124 0.89814321 0.90314253 0.90531507 0.89285232\n",
      " 0.8903491  0.88877748 0.89423193 0.87752722 0.88435773 0.8814385\n",
      " 0.90494172 0.91100065 0.93535724 0.93435453 0.94752487 0.94726175\n",
      " 0.95868268 0.98499136 0.98415932 0.97244682 0.99075161 0.99017558\n",
      " 0.97071164 0.95377936 0.96886623 0.9703774  0.96753995 0.96498339\n",
      " 0.99272147 0.85469323 0.84222579 0.81973886 0.79151446 0.76059461\n",
      " 0.72875494 0.69689655 0.66541851 0.63446188 0.6040436  0.57412273\n",
      " 0.5446375  0.5155375  0.48682263 0.45858729 0.43106186 0.40462926\n",
      " 0.37979746 0.35712209 0.3370966  0.32005069]\n",
      "(1, 100, 1)\n",
      "21 day output [[0.30609375]]\n",
      "22 day input [0.84007495 0.84369466 0.85929355 0.82098436 0.83768552 0.85045406\n",
      " 0.85992291 0.84199148 0.82748064 0.82953228 0.83795931 0.83069144\n",
      " 0.84448403 0.86827882 0.89165049 0.89061578 0.91037484 0.91745426\n",
      " 0.94337536 0.94593192 0.95326023 0.92943699 0.94582524 0.95306111\n",
      " 0.9433078  0.9300379  0.93975565 0.92091751 0.93223889 0.95646036\n",
      " 0.95945783 0.97406112 0.97861598 0.97723281 0.94845647 0.92192378\n",
      " 0.90722804 0.91996814 0.91471992 0.87876461 0.89064778 0.86505735\n",
      " 0.86844594 0.89028865 0.90717471 0.89362391 0.89345323 0.89909969\n",
      " 0.88324124 0.89814321 0.90314253 0.90531507 0.89285232 0.8903491\n",
      " 0.88877748 0.89423193 0.87752722 0.88435773 0.8814385  0.90494172\n",
      " 0.91100065 0.93535724 0.93435453 0.94752487 0.94726175 0.95868268\n",
      " 0.98499136 0.98415932 0.97244682 0.99075161 0.99017558 0.97071164\n",
      " 0.95377936 0.96886623 0.9703774  0.96753995 0.96498339 0.99272147\n",
      " 0.85469323 0.84222579 0.81973886 0.79151446 0.76059461 0.72875494\n",
      " 0.69689655 0.66541851 0.63446188 0.6040436  0.57412273 0.5446375\n",
      " 0.5155375  0.48682263 0.45858729 0.43106186 0.40462926 0.37979746\n",
      " 0.35712209 0.3370966  0.32005069 0.30609375]\n",
      "(1, 100, 1)\n",
      "22 day output [[0.2951184]]\n",
      "23 day input [0.84369466 0.85929355 0.82098436 0.83768552 0.85045406 0.85992291\n",
      " 0.84199148 0.82748064 0.82953228 0.83795931 0.83069144 0.84448403\n",
      " 0.86827882 0.89165049 0.89061578 0.91037484 0.91745426 0.94337536\n",
      " 0.94593192 0.95326023 0.92943699 0.94582524 0.95306111 0.9433078\n",
      " 0.9300379  0.93975565 0.92091751 0.93223889 0.95646036 0.95945783\n",
      " 0.97406112 0.97861598 0.97723281 0.94845647 0.92192378 0.90722804\n",
      " 0.91996814 0.91471992 0.87876461 0.89064778 0.86505735 0.86844594\n",
      " 0.89028865 0.90717471 0.89362391 0.89345323 0.89909969 0.88324124\n",
      " 0.89814321 0.90314253 0.90531507 0.89285232 0.8903491  0.88877748\n",
      " 0.89423193 0.87752722 0.88435773 0.8814385  0.90494172 0.91100065\n",
      " 0.93535724 0.93435453 0.94752487 0.94726175 0.95868268 0.98499136\n",
      " 0.98415932 0.97244682 0.99075161 0.99017558 0.97071164 0.95377936\n",
      " 0.96886623 0.9703774  0.96753995 0.96498339 0.99272147 0.85469323\n",
      " 0.84222579 0.81973886 0.79151446 0.76059461 0.72875494 0.69689655\n",
      " 0.66541851 0.63446188 0.6040436  0.57412273 0.5446375  0.5155375\n",
      " 0.48682263 0.45858729 0.43106186 0.40462926 0.37979746 0.35712209\n",
      " 0.3370966  0.32005069 0.30609375 0.29511839]\n",
      "(1, 100, 1)\n",
      "23 day output [[0.2868509]]\n",
      "24 day input [0.85929355 0.82098436 0.83768552 0.85045406 0.85992291 0.84199148\n",
      " 0.82748064 0.82953228 0.83795931 0.83069144 0.84448403 0.86827882\n",
      " 0.89165049 0.89061578 0.91037484 0.91745426 0.94337536 0.94593192\n",
      " 0.95326023 0.92943699 0.94582524 0.95306111 0.9433078  0.9300379\n",
      " 0.93975565 0.92091751 0.93223889 0.95646036 0.95945783 0.97406112\n",
      " 0.97861598 0.97723281 0.94845647 0.92192378 0.90722804 0.91996814\n",
      " 0.91471992 0.87876461 0.89064778 0.86505735 0.86844594 0.89028865\n",
      " 0.90717471 0.89362391 0.89345323 0.89909969 0.88324124 0.89814321\n",
      " 0.90314253 0.90531507 0.89285232 0.8903491  0.88877748 0.89423193\n",
      " 0.87752722 0.88435773 0.8814385  0.90494172 0.91100065 0.93535724\n",
      " 0.93435453 0.94752487 0.94726175 0.95868268 0.98499136 0.98415932\n",
      " 0.97244682 0.99075161 0.99017558 0.97071164 0.95377936 0.96886623\n",
      " 0.9703774  0.96753995 0.96498339 0.99272147 0.85469323 0.84222579\n",
      " 0.81973886 0.79151446 0.76059461 0.72875494 0.69689655 0.66541851\n",
      " 0.63446188 0.6040436  0.57412273 0.5446375  0.5155375  0.48682263\n",
      " 0.45858729 0.43106186 0.40462926 0.37979746 0.35712209 0.3370966\n",
      " 0.32005069 0.30609375 0.29511839 0.2868509 ]\n",
      "(1, 100, 1)\n",
      "24 day output [[0.28092146]]\n",
      "25 day input [0.82098436 0.83768552 0.85045406 0.85992291 0.84199148 0.82748064\n",
      " 0.82953228 0.83795931 0.83069144 0.84448403 0.86827882 0.89165049\n",
      " 0.89061578 0.91037484 0.91745426 0.94337536 0.94593192 0.95326023\n",
      " 0.92943699 0.94582524 0.95306111 0.9433078  0.9300379  0.93975565\n",
      " 0.92091751 0.93223889 0.95646036 0.95945783 0.97406112 0.97861598\n",
      " 0.97723281 0.94845647 0.92192378 0.90722804 0.91996814 0.91471992\n",
      " 0.87876461 0.89064778 0.86505735 0.86844594 0.89028865 0.90717471\n",
      " 0.89362391 0.89345323 0.89909969 0.88324124 0.89814321 0.90314253\n",
      " 0.90531507 0.89285232 0.8903491  0.88877748 0.89423193 0.87752722\n",
      " 0.88435773 0.8814385  0.90494172 0.91100065 0.93535724 0.93435453\n",
      " 0.94752487 0.94726175 0.95868268 0.98499136 0.98415932 0.97244682\n",
      " 0.99075161 0.99017558 0.97071164 0.95377936 0.96886623 0.9703774\n",
      " 0.96753995 0.96498339 0.99272147 0.85469323 0.84222579 0.81973886\n",
      " 0.79151446 0.76059461 0.72875494 0.69689655 0.66541851 0.63446188\n",
      " 0.6040436  0.57412273 0.5446375  0.5155375  0.48682263 0.45858729\n",
      " 0.43106186 0.40462926 0.37979746 0.35712209 0.3370966  0.32005069\n",
      " 0.30609375 0.29511839 0.2868509  0.28092146]\n",
      "(1, 100, 1)\n",
      "25 day output [[0.2769285]]\n",
      "26 day input [0.83768552 0.85045406 0.85992291 0.84199148 0.82748064 0.82953228\n",
      " 0.83795931 0.83069144 0.84448403 0.86827882 0.89165049 0.89061578\n",
      " 0.91037484 0.91745426 0.94337536 0.94593192 0.95326023 0.92943699\n",
      " 0.94582524 0.95306111 0.9433078  0.9300379  0.93975565 0.92091751\n",
      " 0.93223889 0.95646036 0.95945783 0.97406112 0.97861598 0.97723281\n",
      " 0.94845647 0.92192378 0.90722804 0.91996814 0.91471992 0.87876461\n",
      " 0.89064778 0.86505735 0.86844594 0.89028865 0.90717471 0.89362391\n",
      " 0.89345323 0.89909969 0.88324124 0.89814321 0.90314253 0.90531507\n",
      " 0.89285232 0.8903491  0.88877748 0.89423193 0.87752722 0.88435773\n",
      " 0.8814385  0.90494172 0.91100065 0.93535724 0.93435453 0.94752487\n",
      " 0.94726175 0.95868268 0.98499136 0.98415932 0.97244682 0.99075161\n",
      " 0.99017558 0.97071164 0.95377936 0.96886623 0.9703774  0.96753995\n",
      " 0.96498339 0.99272147 0.85469323 0.84222579 0.81973886 0.79151446\n",
      " 0.76059461 0.72875494 0.69689655 0.66541851 0.63446188 0.6040436\n",
      " 0.57412273 0.5446375  0.5155375  0.48682263 0.45858729 0.43106186\n",
      " 0.40462926 0.37979746 0.35712209 0.3370966  0.32005069 0.30609375\n",
      " 0.29511839 0.2868509  0.28092146 0.27692851]\n",
      "(1, 100, 1)\n",
      "26 day output [[0.27448556]]\n",
      "27 day input [0.85045406 0.85992291 0.84199148 0.82748064 0.82953228 0.83795931\n",
      " 0.83069144 0.84448403 0.86827882 0.89165049 0.89061578 0.91037484\n",
      " 0.91745426 0.94337536 0.94593192 0.95326023 0.92943699 0.94582524\n",
      " 0.95306111 0.9433078  0.9300379  0.93975565 0.92091751 0.93223889\n",
      " 0.95646036 0.95945783 0.97406112 0.97861598 0.97723281 0.94845647\n",
      " 0.92192378 0.90722804 0.91996814 0.91471992 0.87876461 0.89064778\n",
      " 0.86505735 0.86844594 0.89028865 0.90717471 0.89362391 0.89345323\n",
      " 0.89909969 0.88324124 0.89814321 0.90314253 0.90531507 0.89285232\n",
      " 0.8903491  0.88877748 0.89423193 0.87752722 0.88435773 0.8814385\n",
      " 0.90494172 0.91100065 0.93535724 0.93435453 0.94752487 0.94726175\n",
      " 0.95868268 0.98499136 0.98415932 0.97244682 0.99075161 0.99017558\n",
      " 0.97071164 0.95377936 0.96886623 0.9703774  0.96753995 0.96498339\n",
      " 0.99272147 0.85469323 0.84222579 0.81973886 0.79151446 0.76059461\n",
      " 0.72875494 0.69689655 0.66541851 0.63446188 0.6040436  0.57412273\n",
      " 0.5446375  0.5155375  0.48682263 0.45858729 0.43106186 0.40462926\n",
      " 0.37979746 0.35712209 0.3370966  0.32005069 0.30609375 0.29511839\n",
      " 0.2868509  0.28092146 0.27692851 0.27448556]\n",
      "(1, 100, 1)\n",
      "27 day output [[0.27324685]]\n",
      "28 day input [0.85992291 0.84199148 0.82748064 0.82953228 0.83795931 0.83069144\n",
      " 0.84448403 0.86827882 0.89165049 0.89061578 0.91037484 0.91745426\n",
      " 0.94337536 0.94593192 0.95326023 0.92943699 0.94582524 0.95306111\n",
      " 0.9433078  0.9300379  0.93975565 0.92091751 0.93223889 0.95646036\n",
      " 0.95945783 0.97406112 0.97861598 0.97723281 0.94845647 0.92192378\n",
      " 0.90722804 0.91996814 0.91471992 0.87876461 0.89064778 0.86505735\n",
      " 0.86844594 0.89028865 0.90717471 0.89362391 0.89345323 0.89909969\n",
      " 0.88324124 0.89814321 0.90314253 0.90531507 0.89285232 0.8903491\n",
      " 0.88877748 0.89423193 0.87752722 0.88435773 0.8814385  0.90494172\n",
      " 0.91100065 0.93535724 0.93435453 0.94752487 0.94726175 0.95868268\n",
      " 0.98499136 0.98415932 0.97244682 0.99075161 0.99017558 0.97071164\n",
      " 0.95377936 0.96886623 0.9703774  0.96753995 0.96498339 0.99272147\n",
      " 0.85469323 0.84222579 0.81973886 0.79151446 0.76059461 0.72875494\n",
      " 0.69689655 0.66541851 0.63446188 0.6040436  0.57412273 0.5446375\n",
      " 0.5155375  0.48682263 0.45858729 0.43106186 0.40462926 0.37979746\n",
      " 0.35712209 0.3370966  0.32005069 0.30609375 0.29511839 0.2868509\n",
      " 0.28092146 0.27692851 0.27448556 0.27324685]\n",
      "(1, 100, 1)\n",
      "28 day output [[0.27291772]]\n",
      "29 day input [0.84199148 0.82748064 0.82953228 0.83795931 0.83069144 0.84448403\n",
      " 0.86827882 0.89165049 0.89061578 0.91037484 0.91745426 0.94337536\n",
      " 0.94593192 0.95326023 0.92943699 0.94582524 0.95306111 0.9433078\n",
      " 0.9300379  0.93975565 0.92091751 0.93223889 0.95646036 0.95945783\n",
      " 0.97406112 0.97861598 0.97723281 0.94845647 0.92192378 0.90722804\n",
      " 0.91996814 0.91471992 0.87876461 0.89064778 0.86505735 0.86844594\n",
      " 0.89028865 0.90717471 0.89362391 0.89345323 0.89909969 0.88324124\n",
      " 0.89814321 0.90314253 0.90531507 0.89285232 0.8903491  0.88877748\n",
      " 0.89423193 0.87752722 0.88435773 0.8814385  0.90494172 0.91100065\n",
      " 0.93535724 0.93435453 0.94752487 0.94726175 0.95868268 0.98499136\n",
      " 0.98415932 0.97244682 0.99075161 0.99017558 0.97071164 0.95377936\n",
      " 0.96886623 0.9703774  0.96753995 0.96498339 0.99272147 0.85469323\n",
      " 0.84222579 0.81973886 0.79151446 0.76059461 0.72875494 0.69689655\n",
      " 0.66541851 0.63446188 0.6040436  0.57412273 0.5446375  0.5155375\n",
      " 0.48682263 0.45858729 0.43106186 0.40462926 0.37979746 0.35712209\n",
      " 0.3370966  0.32005069 0.30609375 0.29511839 0.2868509  0.28092146\n",
      " 0.27692851 0.27448556 0.27324685 0.27291772]\n",
      "(1, 100, 1)\n"
     ]
    },
    {
     "name": "stdout",
     "output_type": "stream",
     "text": [
      "29 day output [[0.27325413]]\n"
     ]
    }
   ],
   "source": [
    "from numpy import array\n",
    "lst_output=[]\n",
    "n_steps=100\n",
    "i=0\n",
    "while(i<30):\n",
    "    if(len(temp_input)>100):\n",
    "        x_input=np.array(temp_input[1:])\n",
    "        print(\"{} day input {}\".format(i,x_input))\n",
    "        x_input=x_input.reshape(1,-1)\n",
    "        x_input=x_input.reshape((1,n_steps,1))\n",
    "        print(x_input.shape)\n",
    "        yhat=model.predict(x_input,verbose=0)\n",
    "        print(\"{} day output {}\".format(i,yhat))\n",
    "        temp_input.extend(yhat[0].tolist())\n",
    "        temp_input=temp_input[1:]\n",
    "        lst_output.extend(yhat.tolist())\n",
    "        i=i+1\n",
    "    else:\n",
    "        x_input=x_input.reshape((1,n_steps,1))\n",
    "        print(x_input.shape)\n",
    "        \n",
    "        yhat=model.predict(x_input,verbose=0)\n",
    "        print(yhat[0])\n",
    "        temp_input.extend(yhat[0].tolist())\n",
    "        lst_output.extend(yhat.tolist())\n",
    "        i=i+1\n",
    "        "
   ]
  },
  {
   "cell_type": "code",
   "execution_count": 38,
   "metadata": {},
   "outputs": [],
   "source": [
    "import numpy as np\n",
    "day_new=np.arange(1,101)\n",
    "day_pred=np.arange(101,131)"
   ]
  },
  {
   "cell_type": "code",
   "execution_count": 39,
   "metadata": {},
   "outputs": [
    {
     "data": {
      "text/plain": [
       "1259"
      ]
     },
     "execution_count": 39,
     "metadata": {},
     "output_type": "execute_result"
    }
   ],
   "source": [
    "import matplotlib.pyplot as plt\n",
    "len(df2)"
   ]
  },
  {
   "cell_type": "code",
   "execution_count": 40,
   "metadata": {},
   "outputs": [],
   "source": [
    "df3=df2.tolist()\n",
    "df3.extend(lst_output)"
   ]
  },
  {
   "cell_type": "code",
   "execution_count": 42,
   "metadata": {},
   "outputs": [
    {
     "data": {
      "text/plain": [
       "[<matplotlib.lines.Line2D at 0x423b9d68>]"
      ]
     },
     "execution_count": 42,
     "metadata": {},
     "output_type": "execute_result"
    },
    {
     "data": {
      "image/png": "[encoded data removed]",
      "text/plain": [
       "<Figure size 432x288 with 1 Axes>"
      ]
     },
     "metadata": {
      "needs_background": "light"
     },
     "output_type": "display_data"
    }
   ],
   "source": [
    "plt.plot(day_new,scaler.inverse_transform(df2[1159:]))\n",
    "plt.plot(day_pred,scaler.inverse_transform(lst_output))"
   ]
  },
  {
   "cell_type": "code",
   "execution_count": null,
   "metadata": {},
   "outputs": [],
   "source": []
  }
 ],
 "metadata": {
  "kernelspec": {
   "display_name": "Python 3",
   "language": "python",
   "name": "python3"
  },
  "language_info": {
   "codemirror_mode": {
    "name": "ipython",
    "version": 3
   },
   "file_extension": ".py",
   "mimetype": "text/x-python",
   "name": "python",
   "nbconvert_exporter": "python",
   "pygments_lexer": "ipython3",
   "version": "3.7.3"
  }
 },
 "nbformat": 4,
 "nbformat_minor": 2
}
