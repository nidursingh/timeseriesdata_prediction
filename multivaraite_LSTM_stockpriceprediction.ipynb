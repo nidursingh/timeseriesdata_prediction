{
 "cells": [
  {
   "cell_type": "code",
   "execution_count": 1,
   "metadata": {},
   "outputs": [],
   "source": [
    "import numpy as np\n",
    "import pandas as pd\n",
    "import pandas_datareader as pdr\n",
    "import math\n",
    "import  matplotlib.pyplot as plt\n",
    "from  tensorflow.keras.models import Sequential\n",
    "from tensorflow.keras.layers import Dense,Dropout\n",
    "from tensorflow.keras.layers import LSTM\n",
    "from sklearn.preprocessing import MinMaxScaler\n",
    "from sklearn.preprocessing import StandardScaler\n"
   ]
  },
  {
   "cell_type": "code",
   "execution_count": 2,
   "metadata": {},
   "outputs": [
    {
     "data": {
      "image/png": "[encoded data removed]",
      "text/plain": [
       "<Figure size 432x288 with 1 Axes>"
      ]
     },
     "metadata": {
      "needs_background": "light"
     },
     "output_type": "display_data"
    }
   ],
   "source": [
    "data=pdr.get_data_tiingo('GE', api_key='ae0f631f91fa6003822cdbb33a1d5ce8af02e41c')\n",
    "data.to_csv('GE.csv')\n",
    "#data.head()\n",
    "\n",
    "df=pd.read_csv('GE.csv')\n",
    "plt.plot(df['close'])\n",
    "plt.show()"
   ]
  },
  {
   "cell_type": "code",
   "execution_count": 3,
   "metadata": {},
   "outputs": [
    {
     "data": {
      "text/html": [
       "<div>\n",
       "<style scoped>\n",
       "    .dataframe tbody tr th:only-of-type {\n",
       "        vertical-align: middle;\n",
       "    }\n",
       "\n",
       "    .dataframe tbody tr th {\n",
       "        vertical-align: top;\n",
       "    }\n",
       "\n",
       "    .dataframe thead th {\n",
       "        text-align: right;\n",
       "    }\n",
       "</style>\n",
       "<table border=\"1\" class=\"dataframe\">\n",
       "  <thead>\n",
       "    <tr style=\"text-align: right;\">\n",
       "      <th></th>\n",
       "      <th>symbol</th>\n",
       "      <th>date</th>\n",
       "      <th>close</th>\n",
       "      <th>high</th>\n",
       "      <th>low</th>\n",
       "      <th>open</th>\n",
       "      <th>volume</th>\n",
       "      <th>adjClose</th>\n",
       "      <th>adjHigh</th>\n",
       "      <th>adjLow</th>\n",
       "      <th>adjOpen</th>\n",
       "      <th>adjVolume</th>\n",
       "      <th>divCash</th>\n",
       "      <th>splitFactor</th>\n",
       "    </tr>\n",
       "  </thead>\n",
       "  <tbody>\n",
       "    <tr>\n",
       "      <th>0</th>\n",
       "      <td>GE</td>\n",
       "      <td>2016-07-06 00:00:00+00:00</td>\n",
       "      <td>31.74</td>\n",
       "      <td>31.80</td>\n",
       "      <td>31.265</td>\n",
       "      <td>31.27</td>\n",
       "      <td>32095930</td>\n",
       "      <td>27.995582</td>\n",
       "      <td>28.048504</td>\n",
       "      <td>27.576619</td>\n",
       "      <td>27.581029</td>\n",
       "      <td>33361343</td>\n",
       "      <td>0.0</td>\n",
       "      <td>1.0</td>\n",
       "    </tr>\n",
       "    <tr>\n",
       "      <th>1</th>\n",
       "      <td>GE</td>\n",
       "      <td>2016-07-07 00:00:00+00:00</td>\n",
       "      <td>31.82</td>\n",
       "      <td>32.10</td>\n",
       "      <td>31.740</td>\n",
       "      <td>31.81</td>\n",
       "      <td>37517858</td>\n",
       "      <td>28.066144</td>\n",
       "      <td>28.313112</td>\n",
       "      <td>27.995582</td>\n",
       "      <td>28.057324</td>\n",
       "      <td>38997036</td>\n",
       "      <td>0.0</td>\n",
       "      <td>1.0</td>\n",
       "    </tr>\n",
       "    <tr>\n",
       "      <th>2</th>\n",
       "      <td>GE</td>\n",
       "      <td>2016-07-08 00:00:00+00:00</td>\n",
       "      <td>32.20</td>\n",
       "      <td>32.27</td>\n",
       "      <td>31.990</td>\n",
       "      <td>31.99</td>\n",
       "      <td>38531744</td>\n",
       "      <td>28.401315</td>\n",
       "      <td>28.463057</td>\n",
       "      <td>28.216089</td>\n",
       "      <td>28.216089</td>\n",
       "      <td>40050895</td>\n",
       "      <td>0.0</td>\n",
       "      <td>1.0</td>\n",
       "    </tr>\n",
       "    <tr>\n",
       "      <th>3</th>\n",
       "      <td>GE</td>\n",
       "      <td>2016-07-11 00:00:00+00:00</td>\n",
       "      <td>32.21</td>\n",
       "      <td>32.50</td>\n",
       "      <td>32.180</td>\n",
       "      <td>32.26</td>\n",
       "      <td>37977863</td>\n",
       "      <td>28.410135</td>\n",
       "      <td>28.665924</td>\n",
       "      <td>28.383675</td>\n",
       "      <td>28.454237</td>\n",
       "      <td>39475177</td>\n",
       "      <td>0.0</td>\n",
       "      <td>1.0</td>\n",
       "    </tr>\n",
       "    <tr>\n",
       "      <th>4</th>\n",
       "      <td>GE</td>\n",
       "      <td>2016-07-12 00:00:00+00:00</td>\n",
       "      <td>32.26</td>\n",
       "      <td>32.49</td>\n",
       "      <td>32.130</td>\n",
       "      <td>32.31</td>\n",
       "      <td>38082951</td>\n",
       "      <td>28.454237</td>\n",
       "      <td>28.657103</td>\n",
       "      <td>28.339573</td>\n",
       "      <td>28.498338</td>\n",
       "      <td>39584408</td>\n",
       "      <td>0.0</td>\n",
       "      <td>1.0</td>\n",
       "    </tr>\n",
       "  </tbody>\n",
       "</table>\n",
       "</div>"
      ],
      "text/plain": [
       "  symbol                       date  close   high     low   open    volume  \\\n",
       "0     GE  2016-07-06 00:00:00+00:00  31.74  31.80  31.265  31.27  32095930   \n",
       "1     GE  2016-07-07 00:00:00+00:00  31.82  32.10  31.740  31.81  37517858   \n",
       "2     GE  2016-07-08 00:00:00+00:00  32.20  32.27  31.990  31.99  38531744   \n",
       "3     GE  2016-07-11 00:00:00+00:00  32.21  32.50  32.180  32.26  37977863   \n",
       "4     GE  2016-07-12 00:00:00+00:00  32.26  32.49  32.130  32.31  38082951   \n",
       "\n",
       "    adjClose    adjHigh     adjLow    adjOpen  adjVolume  divCash  splitFactor  \n",
       "0  27.995582  28.048504  27.576619  27.581029   33361343      0.0          1.0  \n",
       "1  28.066144  28.313112  27.995582  28.057324   38997036      0.0          1.0  \n",
       "2  28.401315  28.463057  28.216089  28.216089   40050895      0.0          1.0  \n",
       "3  28.410135  28.665924  28.383675  28.454237   39475177      0.0          1.0  \n",
       "4  28.454237  28.657103  28.339573  28.498338   39584408      0.0          1.0  "
      ]
     },
     "execution_count": 3,
     "metadata": {},
     "output_type": "execute_result"
    }
   ],
   "source": [
    "df.head()"
   ]
  },
  {
   "cell_type": "code",
   "execution_count": 4,
   "metadata": {
    "scrolled": true
   },
   "outputs": [
    {
     "data": {
      "text/plain": [
       "0      2016-07-06 00:00:00+00:00\n",
       "1      2016-07-07 00:00:00+00:00\n",
       "2      2016-07-08 00:00:00+00:00\n",
       "3      2016-07-11 00:00:00+00:00\n",
       "4      2016-07-12 00:00:00+00:00\n",
       "                  ...           \n",
       "1253   2021-06-28 00:00:00+00:00\n",
       "1254   2021-06-29 00:00:00+00:00\n",
       "1255   2021-06-30 00:00:00+00:00\n",
       "1256   2021-07-01 00:00:00+00:00\n",
       "1257   2021-07-02 00:00:00+00:00\n",
       "Name: date, Length: 1258, dtype: datetime64[ns, UTC]"
      ]
     },
     "execution_count": 4,
     "metadata": {},
     "output_type": "execute_result"
    }
   ],
   "source": [
    "# Spearating Datas for future processing\n",
    "train_dates=pd.to_datetime(df['date'])\n",
    "train_dates"
   ]
  },
  {
   "cell_type": "code",
   "execution_count": 5,
   "metadata": {},
   "outputs": [
    {
     "data": {
      "text/plain": [
       "['close', 'high', 'low', 'open', 'volume', 'adjClose']"
      ]
     },
     "execution_count": 5,
     "metadata": {},
     "output_type": "execute_result"
    }
   ],
   "source": [
    "#cols for training\n",
    "datacols=list(df)[2:8]\n",
    "datacols"
   ]
  },
  {
   "cell_type": "code",
   "execution_count": 6,
   "metadata": {},
   "outputs": [],
   "source": [
    "cols=['close', 'high', 'low', 'open','adjClose']"
   ]
  },
  {
   "cell_type": "code",
   "execution_count": 7,
   "metadata": {},
   "outputs": [
    {
     "data": {
      "text/plain": [
       "1258"
      ]
     },
     "execution_count": 7,
     "metadata": {},
     "output_type": "execute_result"
    }
   ],
   "source": [
    "len(df)"
   ]
  },
  {
   "cell_type": "code",
   "execution_count": 8,
   "metadata": {},
   "outputs": [
    {
     "data": {
      "text/html": [
       "<div>\n",
       "<style scoped>\n",
       "    .dataframe tbody tr th:only-of-type {\n",
       "        vertical-align: middle;\n",
       "    }\n",
       "\n",
       "    .dataframe tbody tr th {\n",
       "        vertical-align: top;\n",
       "    }\n",
       "\n",
       "    .dataframe thead th {\n",
       "        text-align: right;\n",
       "    }\n",
       "</style>\n",
       "<table border=\"1\" class=\"dataframe\">\n",
       "  <thead>\n",
       "    <tr style=\"text-align: right;\">\n",
       "      <th></th>\n",
       "      <th>close</th>\n",
       "      <th>high</th>\n",
       "      <th>low</th>\n",
       "      <th>open</th>\n",
       "      <th>adjClose</th>\n",
       "    </tr>\n",
       "  </thead>\n",
       "  <tbody>\n",
       "    <tr>\n",
       "      <th>0</th>\n",
       "      <td>31.74</td>\n",
       "      <td>31.800</td>\n",
       "      <td>31.265</td>\n",
       "      <td>31.27</td>\n",
       "      <td>27.995582</td>\n",
       "    </tr>\n",
       "    <tr>\n",
       "      <th>1</th>\n",
       "      <td>31.82</td>\n",
       "      <td>32.100</td>\n",
       "      <td>31.740</td>\n",
       "      <td>31.81</td>\n",
       "      <td>28.066144</td>\n",
       "    </tr>\n",
       "    <tr>\n",
       "      <th>2</th>\n",
       "      <td>32.20</td>\n",
       "      <td>32.270</td>\n",
       "      <td>31.990</td>\n",
       "      <td>31.99</td>\n",
       "      <td>28.401315</td>\n",
       "    </tr>\n",
       "    <tr>\n",
       "      <th>3</th>\n",
       "      <td>32.21</td>\n",
       "      <td>32.500</td>\n",
       "      <td>32.180</td>\n",
       "      <td>32.26</td>\n",
       "      <td>28.410135</td>\n",
       "    </tr>\n",
       "    <tr>\n",
       "      <th>4</th>\n",
       "      <td>32.26</td>\n",
       "      <td>32.490</td>\n",
       "      <td>32.130</td>\n",
       "      <td>32.31</td>\n",
       "      <td>28.454237</td>\n",
       "    </tr>\n",
       "    <tr>\n",
       "      <th>...</th>\n",
       "      <td>...</td>\n",
       "      <td>...</td>\n",
       "      <td>...</td>\n",
       "      <td>...</td>\n",
       "      <td>...</td>\n",
       "    </tr>\n",
       "    <tr>\n",
       "      <th>1253</th>\n",
       "      <td>12.89</td>\n",
       "      <td>13.170</td>\n",
       "      <td>12.790</td>\n",
       "      <td>13.16</td>\n",
       "      <td>12.890000</td>\n",
       "    </tr>\n",
       "    <tr>\n",
       "      <th>1254</th>\n",
       "      <td>13.09</td>\n",
       "      <td>13.230</td>\n",
       "      <td>12.960</td>\n",
       "      <td>13.06</td>\n",
       "      <td>13.090000</td>\n",
       "    </tr>\n",
       "    <tr>\n",
       "      <th>1255</th>\n",
       "      <td>13.46</td>\n",
       "      <td>13.525</td>\n",
       "      <td>13.050</td>\n",
       "      <td>13.15</td>\n",
       "      <td>13.460000</td>\n",
       "    </tr>\n",
       "    <tr>\n",
       "      <th>1256</th>\n",
       "      <td>13.48</td>\n",
       "      <td>13.630</td>\n",
       "      <td>13.360</td>\n",
       "      <td>13.58</td>\n",
       "      <td>13.480000</td>\n",
       "    </tr>\n",
       "    <tr>\n",
       "      <th>1257</th>\n",
       "      <td>13.36</td>\n",
       "      <td>13.540</td>\n",
       "      <td>13.310</td>\n",
       "      <td>13.54</td>\n",
       "      <td>13.360000</td>\n",
       "    </tr>\n",
       "  </tbody>\n",
       "</table>\n",
       "<p>1258 rows × 5 columns</p>\n",
       "</div>"
      ],
      "text/plain": [
       "      close    high     low   open   adjClose\n",
       "0     31.74  31.800  31.265  31.27  27.995582\n",
       "1     31.82  32.100  31.740  31.81  28.066144\n",
       "2     32.20  32.270  31.990  31.99  28.401315\n",
       "3     32.21  32.500  32.180  32.26  28.410135\n",
       "4     32.26  32.490  32.130  32.31  28.454237\n",
       "...     ...     ...     ...    ...        ...\n",
       "1253  12.89  13.170  12.790  13.16  12.890000\n",
       "1254  13.09  13.230  12.960  13.06  13.090000\n",
       "1255  13.46  13.525  13.050  13.15  13.460000\n",
       "1256  13.48  13.630  13.360  13.58  13.480000\n",
       "1257  13.36  13.540  13.310  13.54  13.360000\n",
       "\n",
       "[1258 rows x 5 columns]"
      ]
     },
     "execution_count": 8,
     "metadata": {},
     "output_type": "execute_result"
    }
   ],
   "source": [
    "df_for_training=df[cols].astype(float)\n",
    "df_for_training\n"
   ]
  },
  {
   "cell_type": "code",
   "execution_count": 9,
   "metadata": {},
   "outputs": [
    {
     "data": {
      "text/plain": [
       "array([[ 1.91207214,  1.89621193,  1.87626956,  1.85318473,  1.8515544 ],\n",
       "       [ 1.92161676,  1.93198964,  1.9329691 ,  1.91759287,  1.8613741 ],\n",
       "       [ 1.9669537 ,  1.95226368,  1.96281096,  1.93906225,  1.90801766],\n",
       "       ...,\n",
       "       [-0.26887347, -0.28324692, -0.2980085 , -0.30806617, -0.17126882],\n",
       "       [-0.26648732, -0.27072472, -0.26100459, -0.25677821, -0.16848555],\n",
       "       [-0.28080425, -0.28145803, -0.26697296, -0.26154918, -0.18518518]])"
      ]
     },
     "execution_count": 9,
     "metadata": {},
     "output_type": "execute_result"
    }
   ],
   "source": [
    "#Normalization of data set\n",
    "# LSTM use sigmoid and tanh functions. These functions are sensitive to magnitude\n",
    "#so values are normalized in the data set\n",
    "\n",
    "scaler=StandardScaler()\n",
    "scaler=scaler.fit(df_for_training)\n",
    "df_for_training_scaled=scaler.transform(df_for_training)\n",
    "df_for_training_scaled"
   ]
  },
  {
   "cell_type": "code",
   "execution_count": 10,
   "metadata": {},
   "outputs": [],
   "source": [
    "trainX=[]\n",
    "trainY=[]\n",
    "n_future=1  # number of days we want to predict into the future\n",
    "n_past=14   # Number of past days data we want to use to predict the future\n"
   ]
  },
  {
   "cell_type": "code",
   "execution_count": 11,
   "metadata": {},
   "outputs": [],
   "source": [
    "for i in range(n_past,len(df_for_training_scaled)-n_future+1):\n",
    "    trainX.append(df_for_training_scaled[i-n_past:i,:df_for_training.shape[1]])\n",
    "    trainY.append(df_for_training_scaled[i+n_future -1:i+n_future,0])\n",
    "\n",
    "trainX,trainY = np.array(trainX), np.array(trainY)"
   ]
  },
  {
   "cell_type": "code",
   "execution_count": 12,
   "metadata": {},
   "outputs": [
    {
     "data": {
      "text/plain": [
       "(array([[[1.91207214, 1.89621193, 1.87626956, 1.85318473, 1.8515544 ],\n",
       "         [1.92161676, 1.93198964, 1.9329691 , 1.91759287, 1.8613741 ],\n",
       "         [1.9669537 , 1.95226368, 1.96281096, 1.93906225, 1.90801766],\n",
       "         [1.96814678, 1.97969326, 1.98549078, 1.97126632, 1.90924512],\n",
       "         [1.97411217, 1.97850066, 1.9795224 , 1.97723003, 1.91538243],\n",
       "         [1.98604294, 1.97730807, 1.9938465 , 1.97126632, 1.92765705],\n",
       "         [2.01825603, 2.00593024, 2.02249469, 1.99989216, 1.96079853],\n",
       "         [2.04808297, 2.03335982, 2.05233655, 2.03090348, 1.99148508],\n",
       "         [2.0516622 , 2.03216723, 2.04278715, 2.04640915, 1.99516747],\n",
       "         [2.05404836, 2.03335982, 2.0499492 , 2.02971074, 1.99762239],\n",
       "         [2.03615219, 2.03932277, 2.04756185, 2.05475835, 1.97921046],\n",
       "         [2.01348372, 2.02143392, 2.02249469, 2.02732525, 1.95588868],\n",
       "         [1.95025062, 1.92841187, 1.92700073, 1.90805092, 1.89083319],\n",
       "         [1.90014136, 1.92960446, 1.88999682, 1.9486042 , 1.83927978]]]),\n",
       " array([[1.87985905]]))"
      ]
     },
     "execution_count": 12,
     "metadata": {},
     "output_type": "execute_result"
    }
   ],
   "source": [
    "trainX[0:1],trainY[0:1]"
   ]
  },
  {
   "cell_type": "code",
   "execution_count": 13,
   "metadata": {},
   "outputs": [
    {
     "data": {
      "text/plain": [
       "(14, 5)"
      ]
     },
     "execution_count": 13,
     "metadata": {},
     "output_type": "execute_result"
    }
   ],
   "source": [
    "trainX.shape[1],trainX.shape[2]"
   ]
  },
  {
   "cell_type": "code",
   "execution_count": 14,
   "metadata": {},
   "outputs": [
    {
     "data": {
      "text/plain": [
       "dtype('float64')"
      ]
     },
     "execution_count": 14,
     "metadata": {},
     "output_type": "execute_result"
    }
   ],
   "source": [
    "trainY.dtype"
   ]
  },
  {
   "cell_type": "code",
   "execution_count": 15,
   "metadata": {},
   "outputs": [
    {
     "name": "stdout",
     "output_type": "stream",
     "text": [
      "Model: \"sequential\"\n",
      "_________________________________________________________________\n",
      "Layer (type)                 Output Shape              Param #   \n",
      "=================================================================\n",
      "lstm (LSTM)                  (None, 14, 64)            17920     \n",
      "_________________________________________________________________\n",
      "lstm_1 (LSTM)                (None, 64)                33024     \n",
      "_________________________________________________________________\n",
      "dense (Dense)                (None, 1)                 65        \n",
      "=================================================================\n",
      "Total params: 51,009\n",
      "Trainable params: 51,009\n",
      "Non-trainable params: 0\n",
      "_________________________________________________________________\n"
     ]
    }
   ],
   "source": [
    "model=Sequential()\n",
    "model.add(LSTM(64,activation='relu',input_shape=(trainX.shape[1],trainX.shape[2]),return_sequences=True))\n",
    "model.add(LSTM(64,activation='relu',return_sequences=False))\n",
    "#model.add(Dropout(0,2))# Enabling this craetes some type error\n",
    "model.add(Dense(trainY.shape[1]))\n",
    "model.compile(optimizer='adam',loss='mse')\n",
    "model.summary()\n",
    "\n"
   ]
  },
  {
   "cell_type": "code",
   "execution_count": 16,
   "metadata": {},
   "outputs": [
    {
     "name": "stdout",
     "output_type": "stream",
     "text": [
      "Epoch 1/100\n",
      "70/70 [==============================] - 4s 11ms/step - loss: 0.1677 - val_loss: 0.0030\n",
      "Epoch 2/100\n",
      "70/70 [==============================] - 1s 7ms/step - loss: 0.0080 - val_loss: 0.0040\n",
      "Epoch 3/100\n",
      "70/70 [==============================] - 0s 7ms/step - loss: 0.0057 - val_loss: 0.0039\n",
      "Epoch 4/100\n",
      "70/70 [==============================] - 1s 7ms/step - loss: 0.0052 - val_loss: 0.0041\n",
      "Epoch 5/100\n",
      "70/70 [==============================] - 0s 7ms/step - loss: 0.0055 - val_loss: 0.0027\n",
      "Epoch 6/100\n",
      "70/70 [==============================] - 0s 7ms/step - loss: 0.0052 - val_loss: 0.0026\n",
      "Epoch 7/100\n",
      "70/70 [==============================] - 0s 7ms/step - loss: 0.0046 - val_loss: 0.0025\n",
      "Epoch 8/100\n",
      "70/70 [==============================] - 1s 7ms/step - loss: 0.0037 - val_loss: 0.0022\n",
      "Epoch 9/100\n",
      "70/70 [==============================] - 1s 8ms/step - loss: 0.0033 - val_loss: 0.0022\n",
      "Epoch 10/100\n",
      "70/70 [==============================] - 1s 8ms/step - loss: 0.0032 - val_loss: 0.0021\n",
      "Epoch 11/100\n",
      "70/70 [==============================] - 0s 7ms/step - loss: 0.0030 - val_loss: 0.0031\n",
      "Epoch 12/100\n",
      "70/70 [==============================] - 0s 7ms/step - loss: 0.0029 - val_loss: 0.0020\n",
      "Epoch 13/100\n",
      "70/70 [==============================] - 0s 7ms/step - loss: 0.0031 - val_loss: 0.0018\n",
      "Epoch 14/100\n",
      "70/70 [==============================] - 0s 7ms/step - loss: 0.0030 - val_loss: 0.0020\n",
      "Epoch 15/100\n",
      "70/70 [==============================] - 0s 7ms/step - loss: 0.0024 - val_loss: 0.0017\n",
      "Epoch 16/100\n",
      "70/70 [==============================] - 1s 7ms/step - loss: 0.0025 - val_loss: 0.0033\n",
      "Epoch 17/100\n",
      "70/70 [==============================] - 0s 7ms/step - loss: 0.0024 - val_loss: 0.0019\n",
      "Epoch 18/100\n",
      "70/70 [==============================] - 0s 7ms/step - loss: 0.0022 - val_loss: 0.0018\n",
      "Epoch 19/100\n",
      "70/70 [==============================] - 0s 7ms/step - loss: 0.0023 - val_loss: 0.0015\n",
      "Epoch 20/100\n",
      "70/70 [==============================] - 0s 7ms/step - loss: 0.0024 - val_loss: 0.0015\n",
      "Epoch 21/100\n",
      "70/70 [==============================] - 0s 7ms/step - loss: 0.0019 - val_loss: 0.0017\n",
      "Epoch 22/100\n",
      "70/70 [==============================] - 0s 7ms/step - loss: 0.0018 - val_loss: 0.0015\n",
      "Epoch 23/100\n",
      "70/70 [==============================] - 1s 8ms/step - loss: 0.0021 - val_loss: 0.0015\n",
      "Epoch 24/100\n",
      "70/70 [==============================] - 1s 7ms/step - loss: 0.0020 - val_loss: 0.0014\n",
      "Epoch 25/100\n",
      "70/70 [==============================] - 1s 7ms/step - loss: 0.0021 - val_loss: 0.0014\n",
      "Epoch 26/100\n",
      "70/70 [==============================] - 0s 7ms/step - loss: 0.0017 - val_loss: 0.0016\n",
      "Epoch 27/100\n",
      "70/70 [==============================] - 0s 7ms/step - loss: 0.0019 - val_loss: 0.0019\n",
      "Epoch 28/100\n",
      "70/70 [==============================] - 0s 7ms/step - loss: 0.0018 - val_loss: 0.0014\n",
      "Epoch 29/100\n",
      "70/70 [==============================] - 0s 7ms/step - loss: 0.0020 - val_loss: 0.0014\n",
      "Epoch 30/100\n",
      "70/70 [==============================] - 0s 7ms/step - loss: 0.0019 - val_loss: 0.0014\n",
      "Epoch 31/100\n",
      "70/70 [==============================] - 0s 7ms/step - loss: 0.0017 - val_loss: 0.0014\n",
      "Epoch 32/100\n",
      "70/70 [==============================] - 0s 7ms/step - loss: 0.0018 - val_loss: 0.0013\n",
      "Epoch 33/100\n",
      "70/70 [==============================] - 0s 7ms/step - loss: 0.0017 - val_loss: 0.0013\n",
      "Epoch 34/100\n",
      "70/70 [==============================] - 0s 7ms/step - loss: 0.0016 - val_loss: 0.0013\n",
      "Epoch 35/100\n",
      "70/70 [==============================] - 0s 7ms/step - loss: 0.0018 - val_loss: 0.0015\n",
      "Epoch 36/100\n",
      "70/70 [==============================] - 0s 7ms/step - loss: 0.0019 - val_loss: 0.0013\n",
      "Epoch 37/100\n",
      "70/70 [==============================] - 0s 7ms/step - loss: 0.0017 - val_loss: 0.0019\n",
      "Epoch 38/100\n",
      "70/70 [==============================] - 0s 7ms/step - loss: 0.0015 - val_loss: 0.0013\n",
      "Epoch 39/100\n",
      "70/70 [==============================] - 0s 7ms/step - loss: 0.0020 - val_loss: 0.0013\n",
      "Epoch 40/100\n",
      "70/70 [==============================] - 0s 7ms/step - loss: 0.0015 - val_loss: 0.0015\n",
      "Epoch 41/100\n",
      "70/70 [==============================] - 1s 8ms/step - loss: 0.0016 - val_loss: 0.0013\n",
      "Epoch 42/100\n",
      "70/70 [==============================] - 1s 8ms/step - loss: 0.0015 - val_loss: 0.0013\n",
      "Epoch 43/100\n",
      "70/70 [==============================] - 1s 7ms/step - loss: 0.0015 - val_loss: 0.0013\n",
      "Epoch 44/100\n",
      "70/70 [==============================] - 1s 7ms/step - loss: 0.0016 - val_loss: 0.0013\n",
      "Epoch 45/100\n",
      "70/70 [==============================] - 1s 7ms/step - loss: 0.0014 - val_loss: 0.0015\n",
      "Epoch 46/100\n",
      "70/70 [==============================] - 0s 7ms/step - loss: 0.0016 - val_loss: 0.0016\n",
      "Epoch 47/100\n",
      "70/70 [==============================] - 0s 7ms/step - loss: 0.0016 - val_loss: 0.0013\n",
      "Epoch 48/100\n",
      "70/70 [==============================] - 0s 7ms/step - loss: 0.0017 - val_loss: 0.0014\n",
      "Epoch 49/100\n",
      "70/70 [==============================] - 0s 7ms/step - loss: 0.0014 - val_loss: 0.0013\n",
      "Epoch 50/100\n",
      "70/70 [==============================] - 0s 7ms/step - loss: 0.0019 - val_loss: 0.0013\n",
      "Epoch 51/100\n",
      "70/70 [==============================] - 0s 7ms/step - loss: 0.0017 - val_loss: 0.0013\n",
      "Epoch 52/100\n",
      "70/70 [==============================] - 0s 7ms/step - loss: 0.0014 - val_loss: 0.0013\n",
      "Epoch 53/100\n",
      "70/70 [==============================] - 0s 7ms/step - loss: 0.0014 - val_loss: 0.0013\n",
      "Epoch 54/100\n",
      "70/70 [==============================] - 0s 7ms/step - loss: 0.0016 - val_loss: 0.0014\n",
      "Epoch 55/100\n",
      "70/70 [==============================] - 0s 7ms/step - loss: 0.0016 - val_loss: 0.0016\n",
      "Epoch 56/100\n",
      "70/70 [==============================] - 0s 7ms/step - loss: 0.0018 - val_loss: 0.0013\n",
      "Epoch 57/100\n",
      "70/70 [==============================] - 0s 7ms/step - loss: 0.0013 - val_loss: 0.0012\n",
      "Epoch 58/100\n",
      "70/70 [==============================] - 0s 7ms/step - loss: 0.0016 - val_loss: 0.0013\n",
      "Epoch 59/100\n",
      "70/70 [==============================] - 0s 7ms/step - loss: 0.0016 - val_loss: 0.0012\n",
      "Epoch 60/100\n",
      "70/70 [==============================] - 0s 7ms/step - loss: 0.0016 - val_loss: 0.0012\n",
      "Epoch 61/100\n",
      "70/70 [==============================] - 0s 7ms/step - loss: 0.0016 - val_loss: 0.0013\n",
      "Epoch 62/100\n",
      "70/70 [==============================] - 0s 7ms/step - loss: 0.0016 - val_loss: 0.0012\n",
      "Epoch 63/100\n",
      "70/70 [==============================] - 0s 7ms/step - loss: 0.0015 - val_loss: 0.0013\n",
      "Epoch 64/100\n",
      "70/70 [==============================] - 0s 7ms/step - loss: 0.0015 - val_loss: 0.0020\n",
      "Epoch 65/100\n",
      "70/70 [==============================] - 0s 7ms/step - loss: 0.0016 - val_loss: 0.0012\n",
      "Epoch 66/100\n",
      "70/70 [==============================] - 0s 7ms/step - loss: 0.0014 - val_loss: 0.0014\n",
      "Epoch 67/100\n",
      "70/70 [==============================] - 0s 7ms/step - loss: 0.0015 - val_loss: 0.0012\n",
      "Epoch 68/100\n",
      "70/70 [==============================] - 0s 7ms/step - loss: 0.0017 - val_loss: 0.0013\n",
      "Epoch 69/100\n",
      "70/70 [==============================] - 0s 7ms/step - loss: 0.0014 - val_loss: 0.0013\n",
      "Epoch 70/100\n",
      "70/70 [==============================] - 0s 7ms/step - loss: 0.0015 - val_loss: 0.0012\n",
      "Epoch 71/100\n",
      "70/70 [==============================] - 0s 7ms/step - loss: 0.0018 - val_loss: 0.0012\n",
      "Epoch 72/100\n",
      "70/70 [==============================] - 0s 7ms/step - loss: 0.0014 - val_loss: 0.0012\n",
      "Epoch 73/100\n",
      "70/70 [==============================] - 0s 7ms/step - loss: 0.0017 - val_loss: 0.0013\n",
      "Epoch 74/100\n",
      "70/70 [==============================] - 1s 7ms/step - loss: 0.0016 - val_loss: 0.0012\n",
      "Epoch 75/100\n",
      "70/70 [==============================] - 1s 8ms/step - loss: 0.0014 - val_loss: 0.0012\n",
      "Epoch 76/100\n",
      "70/70 [==============================] - 1s 7ms/step - loss: 0.0014 - val_loss: 0.0012\n",
      "Epoch 77/100\n",
      "70/70 [==============================] - 0s 7ms/step - loss: 0.0016 - val_loss: 0.0014\n",
      "Epoch 78/100\n",
      "70/70 [==============================] - 0s 7ms/step - loss: 0.0014 - val_loss: 0.0015\n",
      "Epoch 79/100\n",
      "70/70 [==============================] - 0s 7ms/step - loss: 0.0013 - val_loss: 0.0017\n",
      "Epoch 80/100\n",
      "70/70 [==============================] - 0s 7ms/step - loss: 0.0016 - val_loss: 0.0012\n",
      "Epoch 81/100\n",
      "70/70 [==============================] - 0s 7ms/step - loss: 0.0015 - val_loss: 0.0012\n",
      "Epoch 82/100\n",
      "70/70 [==============================] - 0s 7ms/step - loss: 0.0013 - val_loss: 0.0013\n",
      "Epoch 83/100\n"
     ]
    },
    {
     "name": "stdout",
     "output_type": "stream",
     "text": [
      "70/70 [==============================] - 0s 7ms/step - loss: 0.0014 - val_loss: 0.0012\n",
      "Epoch 84/100\n",
      "70/70 [==============================] - 0s 7ms/step - loss: 0.0016 - val_loss: 0.0012\n",
      "Epoch 85/100\n",
      "70/70 [==============================] - 0s 7ms/step - loss: 0.0014 - val_loss: 0.0011\n",
      "Epoch 86/100\n",
      "70/70 [==============================] - 0s 7ms/step - loss: 0.0014 - val_loss: 0.0012\n",
      "Epoch 87/100\n",
      "70/70 [==============================] - 0s 7ms/step - loss: 0.0015 - val_loss: 0.0014\n",
      "Epoch 88/100\n",
      "70/70 [==============================] - 0s 7ms/step - loss: 0.0015 - val_loss: 0.0013\n",
      "Epoch 89/100\n",
      "70/70 [==============================] - 0s 7ms/step - loss: 0.0014 - val_loss: 0.0012\n",
      "Epoch 90/100\n",
      "70/70 [==============================] - 0s 7ms/step - loss: 0.0015 - val_loss: 0.0012\n",
      "Epoch 91/100\n",
      "70/70 [==============================] - 0s 7ms/step - loss: 0.0014 - val_loss: 0.0012\n",
      "Epoch 92/100\n",
      "70/70 [==============================] - 0s 7ms/step - loss: 0.0015 - val_loss: 0.0012\n",
      "Epoch 93/100\n",
      "70/70 [==============================] - 0s 7ms/step - loss: 0.0013 - val_loss: 0.0017\n",
      "Epoch 94/100\n",
      "70/70 [==============================] - 0s 7ms/step - loss: 0.0015 - val_loss: 0.0016\n",
      "Epoch 95/100\n",
      "70/70 [==============================] - 0s 7ms/step - loss: 0.0013 - val_loss: 0.0015\n",
      "Epoch 96/100\n",
      "70/70 [==============================] - 1s 7ms/step - loss: 0.0014 - val_loss: 0.0012\n",
      "Epoch 97/100\n",
      "70/70 [==============================] - 1s 7ms/step - loss: 0.0013 - val_loss: 0.0012\n",
      "Epoch 98/100\n",
      "70/70 [==============================] - 0s 7ms/step - loss: 0.0015 - val_loss: 0.0013\n",
      "Epoch 99/100\n",
      "70/70 [==============================] - 1s 8ms/step - loss: 0.0013 - val_loss: 0.0011\n",
      "Epoch 100/100\n",
      "70/70 [==============================] - 0s 7ms/step - loss: 0.0017 - val_loss: 0.0012\n"
     ]
    }
   ],
   "source": [
    "hsitory=model.fit(trainX,trainY,epochs=100,batch_size=16,validation_split=0.1,verbose=1)"
   ]
  },
  {
   "cell_type": "code",
   "execution_count": 17,
   "metadata": {},
   "outputs": [
    {
     "name": "stderr",
     "output_type": "stream",
     "text": [
      "G:\\ANACONDA_INSTALLATION\\lib\\site-packages\\ipykernel_launcher.py:1: MatplotlibDeprecationWarning: Case-insensitive properties were deprecated in 3.3 and support will be removed two minor releases later\n",
      "  \"\"\"Entry point for launching an IPython kernel.\n",
      "G:\\ANACONDA_INSTALLATION\\lib\\site-packages\\ipykernel_launcher.py:2: MatplotlibDeprecationWarning: Case-insensitive properties were deprecated in 3.3 and support will be removed two minor releases later\n",
      "  \n"
     ]
    },
    {
     "data": {
      "image/png": "[encoded data removed]",
      "text/plain": [
       "<Figure size 432x288 with 1 Axes>"
      ]
     },
     "metadata": {
      "needs_background": "light"
     },
     "output_type": "display_data"
    }
   ],
   "source": [
    "plt.plot(hsitory.history['loss'],Label='Training loss')\n",
    "plt.plot(hsitory.history['val_loss'],Label='Validaiton loss')\n",
    "plt.show()"
   ]
  },
  {
   "cell_type": "code",
   "execution_count": 32,
   "metadata": {},
   "outputs": [
    {
     "data": {
      "text/plain": [
       "(90,)"
      ]
     },
     "execution_count": 32,
     "metadata": {},
     "output_type": "execute_result"
    }
   ],
   "source": [
    "#Forcasting\n",
    "#We will start with the last day in the training date and predict future\n",
    "n_future1=90\n",
    "forecast_period_dates=pd.date_range(list(train_dates)[-1],periods=n_future1,freq='1d').tolist()\n",
    "forecast=model.predict(trainX[-n_future1:])\n",
    "# inverse scaling is to be performed to get th eoriginal values\n",
    "# we have used 5 variables for transformation, inverse transformation also should \n",
    "# be of same dimensions\n",
    "forecast_copies=np.repeat(forecast,df_for_training.shape[1],axis=1)\n",
    "y_pred_future=scaler.inverse_transform(forecast_copies)[:,0]\n",
    "\n",
    "y_pred_future.shape"
   ]
  },
  {
   "cell_type": "code",
   "execution_count": 35,
   "metadata": {},
   "outputs": [],
   "source": [
    "#converting timestamp to date\n",
    "forecast_dates=[]\n",
    "for time_i in forecast_period_dates:\n",
    "    forecast_dates.append(time_i.date())\n",
    "df_forecast=pd.DataFrame({'Date':np.array(forecast_dates),'open':y_pred_future})\n",
    "df_forecast['Date']=pd.to_datetime(df_forecast['Date'])                         \n"
   ]
  },
  {
   "cell_type": "code",
   "execution_count": 43,
   "metadata": {},
   "outputs": [
    {
     "name": "stderr",
     "output_type": "stream",
     "text": [
      "G:\\ANACONDA_INSTALLATION\\lib\\site-packages\\ipykernel_launcher.py:3: SettingWithCopyWarning: \n",
      "A value is trying to be set on a copy of a slice from a DataFrame.\n",
      "Try using .loc[row_indexer,col_indexer] = value instead\n",
      "\n",
      "See the caveats in the documentation: https://pandas.pydata.org/pandas-docs/stable/user_guide/indexing.html#returning-a-view-versus-a-copy\n",
      "  This is separate from the ipykernel package so we can avoid doing imports until\n",
      "C:\\Users\\NIDUR\\AppData\\Roaming\\Python\\Python37\\site-packages\\seaborn\\_decorators.py:43: FutureWarning: Pass the following variables as keyword args: x, y. From version 0.12, the only valid positional argument will be `data`, and passing other arguments without an explicit keyword will result in an error or misinterpretation.\n",
      "  FutureWarning\n",
      "C:\\Users\\NIDUR\\AppData\\Roaming\\Python\\Python37\\site-packages\\seaborn\\_decorators.py:43: FutureWarning: Pass the following variables as keyword args: x, y. From version 0.12, the only valid positional argument will be `data`, and passing other arguments without an explicit keyword will result in an error or misinterpretation.\n",
      "  FutureWarning\n"
     ]
    },
    {
     "data": {
      "text/plain": [
       "<AxesSubplot:xlabel='date', ylabel='open'>"
      ]
     },
     "execution_count": 43,
     "metadata": {},
     "output_type": "execute_result"
    },
    {
     "data": {
      "image/png": "[encoded data removed]",
      "text/plain": [
       "<Figure size 432x288 with 1 Axes>"
      ]
     },
     "metadata": {
      "needs_background": "light"
     },
     "output_type": "display_data"
    }
   ],
   "source": [
    "import seaborn as sns\n",
    "original=df[['date' ,'open']]\n",
    "original['date']=pd.to_datetime(original['date'])\n",
    "original=original.loc[original['date'] >= '2020-12-1']\n",
    "sns.lineplot(original['date'],original['open'])\n",
    "sns.lineplot(df_forecast['Date'],df_forecast['open'])\n"
   ]
  },
  {
   "cell_type": "code",
   "execution_count": 37,
   "metadata": {},
   "outputs": [
    {
     "data": {
      "text/html": [
       "<div>\n",
       "<style scoped>\n",
       "    .dataframe tbody tr th:only-of-type {\n",
       "        vertical-align: middle;\n",
       "    }\n",
       "\n",
       "    .dataframe tbody tr th {\n",
       "        vertical-align: top;\n",
       "    }\n",
       "\n",
       "    .dataframe thead th {\n",
       "        text-align: right;\n",
       "    }\n",
       "</style>\n",
       "<table border=\"1\" class=\"dataframe\">\n",
       "  <thead>\n",
       "    <tr style=\"text-align: right;\">\n",
       "      <th></th>\n",
       "      <th>symbol</th>\n",
       "      <th>date</th>\n",
       "      <th>close</th>\n",
       "      <th>high</th>\n",
       "      <th>low</th>\n",
       "      <th>open</th>\n",
       "      <th>volume</th>\n",
       "      <th>adjClose</th>\n",
       "      <th>adjHigh</th>\n",
       "      <th>adjLow</th>\n",
       "      <th>adjOpen</th>\n",
       "      <th>adjVolume</th>\n",
       "      <th>divCash</th>\n",
       "      <th>splitFactor</th>\n",
       "    </tr>\n",
       "  </thead>\n",
       "  <tbody>\n",
       "    <tr>\n",
       "      <th>0</th>\n",
       "      <td>GE</td>\n",
       "      <td>2016-07-06 00:00:00+00:00</td>\n",
       "      <td>31.74</td>\n",
       "      <td>31.80</td>\n",
       "      <td>31.265</td>\n",
       "      <td>31.27</td>\n",
       "      <td>32095930</td>\n",
       "      <td>27.995582</td>\n",
       "      <td>28.048504</td>\n",
       "      <td>27.576619</td>\n",
       "      <td>27.581029</td>\n",
       "      <td>33361343</td>\n",
       "      <td>0.0</td>\n",
       "      <td>1.0</td>\n",
       "    </tr>\n",
       "    <tr>\n",
       "      <th>1</th>\n",
       "      <td>GE</td>\n",
       "      <td>2016-07-07 00:00:00+00:00</td>\n",
       "      <td>31.82</td>\n",
       "      <td>32.10</td>\n",
       "      <td>31.740</td>\n",
       "      <td>31.81</td>\n",
       "      <td>37517858</td>\n",
       "      <td>28.066144</td>\n",
       "      <td>28.313112</td>\n",
       "      <td>27.995582</td>\n",
       "      <td>28.057324</td>\n",
       "      <td>38997036</td>\n",
       "      <td>0.0</td>\n",
       "      <td>1.0</td>\n",
       "    </tr>\n",
       "    <tr>\n",
       "      <th>2</th>\n",
       "      <td>GE</td>\n",
       "      <td>2016-07-08 00:00:00+00:00</td>\n",
       "      <td>32.20</td>\n",
       "      <td>32.27</td>\n",
       "      <td>31.990</td>\n",
       "      <td>31.99</td>\n",
       "      <td>38531744</td>\n",
       "      <td>28.401315</td>\n",
       "      <td>28.463057</td>\n",
       "      <td>28.216089</td>\n",
       "      <td>28.216089</td>\n",
       "      <td>40050895</td>\n",
       "      <td>0.0</td>\n",
       "      <td>1.0</td>\n",
       "    </tr>\n",
       "    <tr>\n",
       "      <th>3</th>\n",
       "      <td>GE</td>\n",
       "      <td>2016-07-11 00:00:00+00:00</td>\n",
       "      <td>32.21</td>\n",
       "      <td>32.50</td>\n",
       "      <td>32.180</td>\n",
       "      <td>32.26</td>\n",
       "      <td>37977863</td>\n",
       "      <td>28.410135</td>\n",
       "      <td>28.665924</td>\n",
       "      <td>28.383675</td>\n",
       "      <td>28.454237</td>\n",
       "      <td>39475177</td>\n",
       "      <td>0.0</td>\n",
       "      <td>1.0</td>\n",
       "    </tr>\n",
       "    <tr>\n",
       "      <th>4</th>\n",
       "      <td>GE</td>\n",
       "      <td>2016-07-12 00:00:00+00:00</td>\n",
       "      <td>32.26</td>\n",
       "      <td>32.49</td>\n",
       "      <td>32.130</td>\n",
       "      <td>32.31</td>\n",
       "      <td>38082951</td>\n",
       "      <td>28.454237</td>\n",
       "      <td>28.657103</td>\n",
       "      <td>28.339573</td>\n",
       "      <td>28.498338</td>\n",
       "      <td>39584408</td>\n",
       "      <td>0.0</td>\n",
       "      <td>1.0</td>\n",
       "    </tr>\n",
       "  </tbody>\n",
       "</table>\n",
       "</div>"
      ],
      "text/plain": [
       "  symbol                       date  close   high     low   open    volume  \\\n",
       "0     GE  2016-07-06 00:00:00+00:00  31.74  31.80  31.265  31.27  32095930   \n",
       "1     GE  2016-07-07 00:00:00+00:00  31.82  32.10  31.740  31.81  37517858   \n",
       "2     GE  2016-07-08 00:00:00+00:00  32.20  32.27  31.990  31.99  38531744   \n",
       "3     GE  2016-07-11 00:00:00+00:00  32.21  32.50  32.180  32.26  37977863   \n",
       "4     GE  2016-07-12 00:00:00+00:00  32.26  32.49  32.130  32.31  38082951   \n",
       "\n",
       "    adjClose    adjHigh     adjLow    adjOpen  adjVolume  divCash  splitFactor  \n",
       "0  27.995582  28.048504  27.576619  27.581029   33361343      0.0          1.0  \n",
       "1  28.066144  28.313112  27.995582  28.057324   38997036      0.0          1.0  \n",
       "2  28.401315  28.463057  28.216089  28.216089   40050895      0.0          1.0  \n",
       "3  28.410135  28.665924  28.383675  28.454237   39475177      0.0          1.0  \n",
       "4  28.454237  28.657103  28.339573  28.498338   39584408      0.0          1.0  "
      ]
     },
     "execution_count": 37,
     "metadata": {},
     "output_type": "execute_result"
    }
   ],
   "source": [
    "df.head()"
   ]
  },
  {
   "cell_type": "code",
   "execution_count": null,
   "metadata": {},
   "outputs": [],
   "source": []
  }
 ],
 "metadata": {
  "kernelspec": {
   "display_name": "Python 3",
   "language": "python",
   "name": "python3"
  },
  "language_info": {
   "codemirror_mode": {
    "name": "ipython",
    "version": 3
   },
   "file_extension": ".py",
   "mimetype": "text/x-python",
   "name": "python",
   "nbconvert_exporter": "python",
   "pygments_lexer": "ipython3",
   "version": "3.7.3"
  }
 },
 "nbformat": 4,
 "nbformat_minor": 2
}
